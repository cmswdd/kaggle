{
 "cells": [
  {
   "cell_type": "code",
   "execution_count": 1,
   "metadata": {},
   "outputs": [],
   "source": [
    "import datetime\n",
    "import gc\n",
    "import matplotlib.pyplot as plt\n",
    "import numpy as np\n",
    "import os\n",
    "import pandas as pd\n",
    "import seaborn as sns\n",
    "import time\n",
    "import warnings\n",
    "\n",
    "from contextlib import contextmanager\n",
    "from pandas.core.common import SettingWithCopyWarning\n",
    "from sklearn.metrics import mean_squared_error\n",
    "from sklearn.model_selection import KFold, StratifiedKFold\n",
    "\n",
    "warnings.simplefilter(action='ignore', category=SettingWithCopyWarning)\n",
    "warnings.simplefilter(action='ignore', category=FutureWarning)\n",
    "\n",
    "\n",
    "FEATS_EXCLUDED = ['first_active_month', 'target', 'card_id', 'outliers',\n",
    "                  'hist_purchase_date_max', 'hist_purchase_date_min', 'hist_card_id_size',\n",
    "                  'new_purchase_date_max', 'new_purchase_date_min', 'new_card_id_size',\n",
    "                  'OOF_PRED', 'month_0']\n",
    "@contextmanager\n",
    "def timer(title):\n",
    "    t0 = time.time()\n",
    "    yield\n",
    "    print(\"{} - done in {:.0f}s\".format(title, time.time() - t0))\n",
    "\n",
    "# rmse\n",
    "def rmse(y_true, y_pred):\n",
    "    return np.sqrt(mean_squared_error(y_true, y_pred))\n",
    "\n",
    "# One-hot encoding for categorical columns with get_dummies\n",
    "def one_hot_encoder(df, nan_as_category = True):\n",
    "    original_columns = list(df.columns)\n",
    "    categorical_columns = [col for col in df.columns if df[col].dtype == 'object']\n",
    "    df = pd.get_dummies(df, columns= categorical_columns, dummy_na= nan_as_category)\n",
    "    new_columns = [c for c in df.columns if c not in original_columns]\n",
    "    return df, new_columns\n",
    "    \n",
    "# Display/plot feature importance\n",
    "def display_importances(feature_importance_df_):\n",
    "    cols = feature_importance_df_[[\"feature\", \"importance\"]].groupby(\"feature\").mean().sort_values(by=\"importance\", ascending=False)[:40].index\n",
    "    best_features = feature_importance_df_.loc[feature_importance_df_.feature.isin(cols)]\n",
    "\n",
    "    plt.figure(figsize=(8, 10))\n",
    "    sns.barplot(x=\"importance\", y=\"feature\", data=best_features.sort_values(by=\"importance\", ascending=False))\n",
    "    plt.title('LightGBM Features (avg over folds)')\n",
    "    plt.tight_layout()\n",
    "    plt.savefig('lgbm_importances.png')\n",
    "\n",
    "# reduce memory\n",
    "def reduce_mem_usage(df, verbose=True):\n",
    "    numerics = ['int16', 'int32', 'int64', 'float16', 'float32', 'float64']\n",
    "    start_mem = df.memory_usage().sum() / 1024**2\n",
    "    for col in df.columns:\n",
    "        col_type = df[col].dtypes\n",
    "        if col_type in numerics:\n",
    "            c_min = df[col].min()\n",
    "            c_max = df[col].max()\n",
    "            if str(col_type)[:3] == 'int':\n",
    "                if c_min > np.iinfo(np.int8).min and c_max < np.iinfo(np.int8).max:\n",
    "                    df[col] = df[col].astype(np.int8)\n",
    "                elif c_min > np.iinfo(np.int16).min and c_max < np.iinfo(np.int16).max:\n",
    "                    df[col] = df[col].astype(np.int16)\n",
    "                elif c_min > np.iinfo(np.int32).min and c_max < np.iinfo(np.int32).max:\n",
    "                    df[col] = df[col].astype(np.int32)\n",
    "                elif c_min > np.iinfo(np.int64).min and c_max < np.iinfo(np.int64).max:\n",
    "                    df[col] = df[col].astype(np.int64)\n",
    "            else:\n",
    "                if c_min > np.finfo(np.float16).min and c_max < np.finfo(np.float16).max:\n",
    "                    df[col] = df[col].astype(np.float16)\n",
    "                elif c_min > np.finfo(np.float32).min and c_max < np.finfo(np.float32).max:\n",
    "                    df[col] = df[col].astype(np.float32)\n",
    "                else:\n",
    "                    df[col] = df[col].astype(np.float64)\n",
    "\n",
    "    end_mem = df.memory_usage().sum() / 1024**2\n",
    "    print('Memory usage after optimization is: {:.2f} MB'.format(end_mem))\n",
    "    print('Decreased by {:.1f}%'.format(100 * (start_mem - end_mem) / start_mem))\n",
    "\n",
    "    return df\n",
    "    \n",
    "\n",
    "\n",
    "# LightGBM GBDT with KFold or Stratified KFold\n",
    "def kfold_lightgbm(train_df, test_df, num_folds, stratified = False, debug= False):\n",
    "    print(\"Starting LightGBM. Train shape: {}, test shape: {}\".format(train_df.shape, test_df.shape))\n",
    "\n",
    "    # Cross validation model\n",
    "    if stratified:\n",
    "        folds = StratifiedKFold(n_splits= num_folds, shuffle=True, random_state=326)\n",
    "    else:\n",
    "        folds = KFold(n_splits= num_folds, shuffle=True, random_state=326)\n",
    "\n",
    "    # Create arrays and dataframes to store results\n",
    "    oof_preds = np.zeros(train_df.shape[0])\n",
    "    sub_preds = np.zeros(test_df.shape[0])\n",
    "    feature_importance_df = pd.DataFrame()\n",
    "    feats = [f for f in train_df.columns if f not in FEATS_EXCLUDED]\n",
    "\n",
    "    # k-fold\n",
    "    for n_fold, (train_idx, valid_idx) in enumerate(folds.split(train_df[feats], train_df['outliers'])):\n",
    "        train_x, train_y = train_df[feats].iloc[train_idx], train_df['target'].iloc[train_idx]\n",
    "        valid_x, valid_y = train_df[feats].iloc[valid_idx], train_df['target'].iloc[valid_idx]\n",
    "\n",
    "        # set data structure\n",
    "        lgb_train = lgb.Dataset(train_x,\n",
    "                                label=train_y,\n",
    "                                free_raw_data=False)\n",
    "        lgb_test = lgb.Dataset(valid_x,\n",
    "                               label=valid_y,\n",
    "                               free_raw_data=False)\n",
    "\n",
    "        # params optimized by optuna\n",
    "        params ={\n",
    "                'task': 'train',\n",
    "                'boosting': 'goss',\n",
    "                'objective': 'regression',\n",
    "                'metric': 'rmse',\n",
    "                'learning_rate': 0.01,\n",
    "                'subsample': 0.9855232997390695,\n",
    "                'max_depth': 7,\n",
    "                'top_rate': 0.9064148448434349,\n",
    "                'num_leaves': 63,\n",
    "                'min_child_weight': 41.9612869171337,\n",
    "                'other_rate': 0.0721768246018207,\n",
    "                'reg_alpha': 9.677537745007898,\n",
    "                'colsample_bytree': 0.5665320670155495,\n",
    "                'min_split_gain': 9.820197773625843,\n",
    "                'reg_lambda': 8.2532317400459,\n",
    "                'min_data_in_leaf': 21,\n",
    "                'verbose': -1,\n",
    "                'seed':int(2**n_fold),\n",
    "                'bagging_seed':int(2**n_fold),\n",
    "                'drop_seed':int(2**n_fold)\n",
    "                }\n",
    "\n",
    "        reg = lgb.train(\n",
    "                        params,\n",
    "                        lgb_train,\n",
    "                        valid_sets=[lgb_train, lgb_test],\n",
    "                        valid_names=['train', 'test'],\n",
    "                        num_boost_round=10000,\n",
    "                        early_stopping_rounds= 200,\n",
    "                        verbose_eval=100\n",
    "                        )\n",
    "\n",
    "        oof_preds[valid_idx] = reg.predict(valid_x, num_iteration=reg.best_iteration)\n",
    "        sub_preds += reg.predict(test_df[feats], num_iteration=reg.best_iteration) / folds.n_splits\n",
    "\n",
    "        fold_importance_df = pd.DataFrame()\n",
    "        fold_importance_df[\"feature\"] = feats\n",
    "        fold_importance_df[\"importance\"] = np.log1p(reg.feature_importance(importance_type='gain', iteration=reg.best_iteration))\n",
    "        fold_importance_df[\"fold\"] = n_fold + 1\n",
    "        feature_importance_df = pd.concat([feature_importance_df, fold_importance_df], axis=0)\n",
    "        print('Fold %2d RMSE : %.6f' % (n_fold + 1, rmse(valid_y, oof_preds[valid_idx])))\n",
    "        del reg, train_x, train_y, valid_x, valid_y\n",
    "        gc.collect()\n",
    "\n",
    "    # display importances\n",
    "    display_importances(feature_importance_df)\n",
    "\n",
    "    if not debug:\n",
    "        # save submission file\n",
    "        test_df.loc[:,'target'] = sub_preds\n",
    "        test_df = test_df.reset_index()\n",
    "        test_df[['card_id', 'target']].to_csv(submission_file_name, index=False)\n"
   ]
  },
  {
   "cell_type": "code",
   "execution_count": 2,
   "metadata": {
    "scrolled": true
   },
   "outputs": [
    {
     "name": "stdout",
     "output_type": "stream",
     "text": [
      "Memory usage after optimization is: 94.16 MB\n",
      "Decreased by 69.9%\n"
     ]
    },
    {
     "name": "stderr",
     "output_type": "stream",
     "text": [
      "C:\\Anaconda3\\lib\\site-packages\\ipykernel_launcher.py:72: RuntimeWarning: invalid value encountered in less\n",
      "C:\\Anaconda3\\lib\\site-packages\\ipykernel_launcher.py:74: RuntimeWarning: invalid value encountered in less\n"
     ]
    },
    {
     "name": "stdout",
     "output_type": "stream",
     "text": [
      "Memory usage after optimization is: 57.65 MB\n",
      "Decreased by 69.9%\n",
      "Wall time: 33.7 s\n"
     ]
    }
   ],
   "source": [
    "%%time\n",
    "train_df = reduce_mem_usage(pd.read_csv('train_clean.csv'))\n",
    "test_df = reduce_mem_usage(pd.read_csv('test_clean.csv'))"
   ]
  },
  {
   "cell_type": "code",
   "execution_count": 3,
   "metadata": {},
   "outputs": [
    {
     "name": "stderr",
     "output_type": "stream",
     "text": [
      "Using TensorFlow backend.\n"
     ]
    }
   ],
   "source": [
    "import xgboost as xgb\n",
    "import numpy as np\n",
    "import sklearn.datasets\n",
    "import sklearn.metrics\n",
    "from sklearn.model_selection import train_test_split\n",
    "\n",
    "import optuna\n",
    "\n",
    "def rmse(y_true, y_pred):\n",
    "    return np.sqrt(mean_squared_error(y_true, y_pred))\n",
    "\n",
    "def objective(trial):\n",
    "    \n",
    "        data = train_df[feats]\n",
    "        target = train_df['target']\n",
    "        train_x, test_x, train_y, test_y = train_test_split(data, target, test_size=0.25)\n",
    "        dtrain = xgb.DMatrix(train_x, label=train_y)\n",
    "        dtest = xgb.DMatrix(test_x, label=test_y)\n",
    "        \n",
    "\n",
    "        param = {'objective': 'reg:linear',\n",
    "                  'eval_metric': 'rmse',\n",
    "                  'verbosity': -1,\n",
    "                  \"learning_rate\": trial.suggest_uniform('learning_rate', 0.001, 1),\n",
    "                  \n",
    "                  'silent': 1,\n",
    "                  'booster': trial.suggest_categorical('booster', ['gbtree','dart']),\n",
    "                  'lambda': trial.suggest_loguniform('lambda', 1e-8, 1.0),\n",
    "                  'alpha': trial.suggest_loguniform('alpha', 1e-8, 1.0),\n",
    "                  \n",
    "                  #'gpu_id': 0,\n",
    "                  #'tree_method': 'gpu_hist',\n",
    "                  #'max_bin': 16,\n",
    "                  #'updater' : 'grow_gpu_hist',\n",
    "\n",
    "                \n",
    "                  'seed': 326,\n",
    "                  'boosting_type': trial.suggest_categorical('boosting', ['gbdt',  'goss']),\n",
    "                  'num_leaves': trial.suggest_int('num_leaves', 16, 64),\n",
    "                  'colsample_bytree': trial.suggest_uniform('colsample_bytree', 0.001, 1),\n",
    "                  'subsample': trial.suggest_uniform('subsample', 0.001, 1),\n",
    "                  'max_depth': trial.suggest_int('max_depth', 5, 20),\n",
    "                  #'reg_alpha': trial.suggest_uniform('reg_alpha', 0, 10),\n",
    "                  'reg_lambda': trial.suggest_uniform('reg_lambda', 0, 10),\n",
    "                  #'min_split_gain': trial.suggest_uniform('min_split_gain', 0, 10),\n",
    "                  #'min_child_weight': trial.suggest_uniform('min_child_weight', 0, 45),\n",
    "                  #'min_data_in_leaf': trial.suggest_int('min_data_in_leaf', 16, 64)\n",
    "                  }\n",
    "\n",
    "\n",
    "        \n",
    "        \n",
    "        if param['booster'] == 'gbtree' or param['booster'] == 'dart':\n",
    "            param['max_depth'] = trial.suggest_int('max_depth', 1, 9)\n",
    "            param['eta'] = trial.suggest_loguniform('eta', 1e-8, 1.0)\n",
    "            param['gamma'] = trial.suggest_loguniform('gamma', 1e-8, 1.0)\n",
    "            param['grow_policy'] = trial.suggest_categorical('grow_policy', ['depthwise', 'lossguide'])\n",
    "        if param['booster'] == 'dart':\n",
    "            param['sample_type'] = trial.suggest_categorical('sample_type', ['uniform', 'weighted'])\n",
    "            param['normalize_type'] = trial.suggest_categorical('normalize_type', ['tree', 'forest'])\n",
    "            param['rate_drop'] = trial.suggest_loguniform('rate_drop', 1e-8, 1.0)\n",
    "            param['skip_drop'] = trial.suggest_loguniform('skip_drop', 1e-8, 1.0)\n",
    "\n",
    "        gbm = xgb.train(param, dtrain)\n",
    "        preds = gbm.predict(dtest)\n",
    "        print(preds)\n",
    "        pred_labels = np.rint(preds)\n",
    "        error =  rmse(test_y,pred_labels)\n",
    "        \n",
    "        return error\n",
    "\n"
   ]
  },
  {
   "cell_type": "code",
   "execution_count": 4,
   "metadata": {
    "scrolled": true
   },
   "outputs": [
    {
     "name": "stdout",
     "output_type": "stream",
     "text": [
      "[-0.0926857   1.3151143   0.18114877 ...  0.42111242 -4.0382833\n",
      " -1.3636883 ]\n"
     ]
    },
    {
     "name": "stderr",
     "output_type": "stream",
     "text": [
      "[I 2019-02-15 23:58:17,598] Finished a trial resulted in value: 4.027097702026367. Current best value is 4.027097702026367 with parameters: {'learning_rate': 0.2521224347953242, 'booster': 'dart', 'lambda': 0.0001233651023072927, 'alpha': 1.3017861984037023e-05, 'boosting': 'goss', 'num_leaves': 21, 'colsample_bytree': 0.29784878529407743, 'subsample': 0.029003905464427028, 'max_depth': 13, 'reg_lambda': 3.6257758917501635, 'eta': 0.10289744154207395, 'gamma': 0.0002816849545098529, 'grow_policy': 'depthwise', 'sample_type': 'uniform', 'normalize_type': 'forest', 'rate_drop': 3.1417711585387727e-08, 'skip_drop': 1.2844990651753047e-06}.\n"
     ]
    },
    {
     "name": "stdout",
     "output_type": "stream",
     "text": [
      "[ 1.5431254  -0.42633516 -0.73449147 ...  2.9881396   1.9011275\n",
      " -7.2503304 ]\n"
     ]
    },
    {
     "name": "stderr",
     "output_type": "stream",
     "text": [
      "[I 2019-02-16 00:03:02,825] Finished a trial resulted in value: 3.9500226974487305. Current best value is 3.9500226974487305 with parameters: {'learning_rate': 0.5115072770753109, 'booster': 'dart', 'lambda': 9.036219587627254e-08, 'alpha': 0.0032012914715939833, 'boosting': 'goss', 'num_leaves': 27, 'colsample_bytree': 0.5348230368701687, 'subsample': 0.985144462432532, 'max_depth': 19, 'reg_lambda': 5.396074182445668, 'eta': 0.19212996682810954, 'gamma': 0.00019209988132236713, 'grow_policy': 'depthwise', 'sample_type': 'uniform', 'normalize_type': 'forest', 'rate_drop': 0.010730596673154014, 'skip_drop': 1.898353420849061e-08}.\n"
     ]
    },
    {
     "name": "stdout",
     "output_type": "stream",
     "text": [
      "[-0.18087661 -2.0655363  -0.22937906 ... -0.33819646  0.8531803\n",
      " -0.29289764]\n"
     ]
    },
    {
     "name": "stderr",
     "output_type": "stream",
     "text": [
      "[I 2019-02-16 00:03:15,335] Finished a trial resulted in value: 3.7370407581329346. Current best value is 3.7370407581329346 with parameters: {'learning_rate': 0.3721662751650954, 'booster': 'gbtree', 'lambda': 0.46832855873983237, 'alpha': 5.664286255113604e-06, 'boosting': 'gbdt', 'num_leaves': 41, 'colsample_bytree': 0.5780206988009741, 'subsample': 0.9433710206623308, 'max_depth': 5, 'reg_lambda': 8.687575570774587, 'eta': 4.402512324859672e-06, 'gamma': 4.49976061879331e-07, 'grow_policy': 'depthwise'}.\n"
     ]
    },
    {
     "name": "stdout",
     "output_type": "stream",
     "text": [
      "[ -1.8436782   -0.5749625  -10.892274   ...  -0.48422718   0.3160874\n",
      "  -0.21393257]\n"
     ]
    },
    {
     "name": "stderr",
     "output_type": "stream",
     "text": [
      "[I 2019-02-16 00:04:05,629] Finished a trial resulted in value: 4.204043388366699. Current best value is 3.7370407581329346 with parameters: {'learning_rate': 0.3721662751650954, 'booster': 'gbtree', 'lambda': 0.46832855873983237, 'alpha': 5.664286255113604e-06, 'boosting': 'gbdt', 'num_leaves': 41, 'colsample_bytree': 0.5780206988009741, 'subsample': 0.9433710206623308, 'max_depth': 5, 'reg_lambda': 8.687575570774587, 'eta': 4.402512324859672e-06, 'gamma': 4.49976061879331e-07, 'grow_policy': 'depthwise'}.\n"
     ]
    },
    {
     "name": "stdout",
     "output_type": "stream",
     "text": [
      "[ 0.22586316 -2.454451    0.1726191  ... -1.867914   -0.3185392\n",
      " -0.2581265 ]\n"
     ]
    },
    {
     "name": "stderr",
     "output_type": "stream",
     "text": [
      "[I 2019-02-16 00:06:59,365] Finished a trial resulted in value: 4.571091175079346. Current best value is 3.7370407581329346 with parameters: {'learning_rate': 0.3721662751650954, 'booster': 'gbtree', 'lambda': 0.46832855873983237, 'alpha': 5.664286255113604e-06, 'boosting': 'gbdt', 'num_leaves': 41, 'colsample_bytree': 0.5780206988009741, 'subsample': 0.9433710206623308, 'max_depth': 5, 'reg_lambda': 8.687575570774587, 'eta': 4.402512324859672e-06, 'gamma': 4.49976061879331e-07, 'grow_policy': 'depthwise'}.\n"
     ]
    },
    {
     "name": "stdout",
     "output_type": "stream",
     "text": [
      "[ 1.6564393  -0.70271194  1.6779165  ...  0.09979483  1.015637\n",
      " -1.2219437 ]\n"
     ]
    },
    {
     "name": "stderr",
     "output_type": "stream",
     "text": [
      "[I 2019-02-16 00:09:58,331] Finished a trial resulted in value: 4.670415878295898. Current best value is 3.7370407581329346 with parameters: {'learning_rate': 0.3721662751650954, 'booster': 'gbtree', 'lambda': 0.46832855873983237, 'alpha': 5.664286255113604e-06, 'boosting': 'gbdt', 'num_leaves': 41, 'colsample_bytree': 0.5780206988009741, 'subsample': 0.9433710206623308, 'max_depth': 5, 'reg_lambda': 8.687575570774587, 'eta': 4.402512324859672e-06, 'gamma': 4.49976061879331e-07, 'grow_policy': 'depthwise'}.\n"
     ]
    },
    {
     "name": "stdout",
     "output_type": "stream",
     "text": [
      "[-0.6842904  -0.18597132  0.48729244 ... -0.06966573  0.06228733\n",
      "  0.26783803]\n"
     ]
    },
    {
     "name": "stderr",
     "output_type": "stream",
     "text": [
      "[I 2019-02-16 00:10:30,263] Finished a trial resulted in value: 3.819348096847534. Current best value is 3.7370407581329346 with parameters: {'learning_rate': 0.3721662751650954, 'booster': 'gbtree', 'lambda': 0.46832855873983237, 'alpha': 5.664286255113604e-06, 'boosting': 'gbdt', 'num_leaves': 41, 'colsample_bytree': 0.5780206988009741, 'subsample': 0.9433710206623308, 'max_depth': 5, 'reg_lambda': 8.687575570774587, 'eta': 4.402512324859672e-06, 'gamma': 4.49976061879331e-07, 'grow_policy': 'depthwise'}.\n"
     ]
    },
    {
     "name": "stdout",
     "output_type": "stream",
     "text": [
      "[ 0.49239218 -0.05961871  0.05691111 ...  0.16939476  0.1902321\n",
      "  0.34666604]\n"
     ]
    },
    {
     "name": "stderr",
     "output_type": "stream",
     "text": [
      "[I 2019-02-16 00:15:11,851] Finished a trial resulted in value: 3.896340847015381. Current best value is 3.7370407581329346 with parameters: {'learning_rate': 0.3721662751650954, 'booster': 'gbtree', 'lambda': 0.46832855873983237, 'alpha': 5.664286255113604e-06, 'boosting': 'gbdt', 'num_leaves': 41, 'colsample_bytree': 0.5780206988009741, 'subsample': 0.9433710206623308, 'max_depth': 5, 'reg_lambda': 8.687575570774587, 'eta': 4.402512324859672e-06, 'gamma': 4.49976061879331e-07, 'grow_policy': 'depthwise'}.\n"
     ]
    },
    {
     "name": "stdout",
     "output_type": "stream",
     "text": [
      "[-0.8729838  -0.6030092  -0.688962   ...  0.19168651 -0.18117964\n",
      " -0.24255067]\n"
     ]
    },
    {
     "name": "stderr",
     "output_type": "stream",
     "text": [
      "[I 2019-02-16 00:15:37,162] Finished a trial resulted in value: 3.7920331954956055. Current best value is 3.7370407581329346 with parameters: {'learning_rate': 0.3721662751650954, 'booster': 'gbtree', 'lambda': 0.46832855873983237, 'alpha': 5.664286255113604e-06, 'boosting': 'gbdt', 'num_leaves': 41, 'colsample_bytree': 0.5780206988009741, 'subsample': 0.9433710206623308, 'max_depth': 5, 'reg_lambda': 8.687575570774587, 'eta': 4.402512324859672e-06, 'gamma': 4.49976061879331e-07, 'grow_policy': 'depthwise'}.\n"
     ]
    },
    {
     "name": "stdout",
     "output_type": "stream",
     "text": [
      "[-12.830867    2.5408907  -3.3819957 ...  -0.8246701  -0.7944101\n",
      "  -1.4263998]\n"
     ]
    },
    {
     "name": "stderr",
     "output_type": "stream",
     "text": [
      "[I 2019-02-16 00:16:31,005] Finished a trial resulted in value: 5.2906107902526855. Current best value is 3.7370407581329346 with parameters: {'learning_rate': 0.3721662751650954, 'booster': 'gbtree', 'lambda': 0.46832855873983237, 'alpha': 5.664286255113604e-06, 'boosting': 'gbdt', 'num_leaves': 41, 'colsample_bytree': 0.5780206988009741, 'subsample': 0.9433710206623308, 'max_depth': 5, 'reg_lambda': 8.687575570774587, 'eta': 4.402512324859672e-06, 'gamma': 4.49976061879331e-07, 'grow_policy': 'depthwise'}.\n"
     ]
    },
    {
     "name": "stdout",
     "output_type": "stream",
     "text": [
      "[ 0.11518592 -0.8214948  -0.21416724 ... -0.45833492 -0.47090328\n",
      " -0.0492323 ]\n"
     ]
    },
    {
     "name": "stderr",
     "output_type": "stream",
     "text": [
      "[I 2019-02-16 00:16:40,413] Finished a trial resulted in value: 3.7908904552459717. Current best value is 3.7370407581329346 with parameters: {'learning_rate': 0.3721662751650954, 'booster': 'gbtree', 'lambda': 0.46832855873983237, 'alpha': 5.664286255113604e-06, 'boosting': 'gbdt', 'num_leaves': 41, 'colsample_bytree': 0.5780206988009741, 'subsample': 0.9433710206623308, 'max_depth': 5, 'reg_lambda': 8.687575570774587, 'eta': 4.402512324859672e-06, 'gamma': 4.49976061879331e-07, 'grow_policy': 'depthwise'}.\n"
     ]
    },
    {
     "name": "stdout",
     "output_type": "stream",
     "text": [
      "[ 0.31642368  0.24708134 -0.74925697 ...  4.465827   -0.02593821\n",
      " -1.6069283 ]\n"
     ]
    },
    {
     "name": "stderr",
     "output_type": "stream",
     "text": [
      "[I 2019-02-16 00:17:17,563] Finished a trial resulted in value: 3.977651596069336. Current best value is 3.7370407581329346 with parameters: {'learning_rate': 0.3721662751650954, 'booster': 'gbtree', 'lambda': 0.46832855873983237, 'alpha': 5.664286255113604e-06, 'boosting': 'gbdt', 'num_leaves': 41, 'colsample_bytree': 0.5780206988009741, 'subsample': 0.9433710206623308, 'max_depth': 5, 'reg_lambda': 8.687575570774587, 'eta': 4.402512324859672e-06, 'gamma': 4.49976061879331e-07, 'grow_policy': 'depthwise'}.\n"
     ]
    },
    {
     "name": "stdout",
     "output_type": "stream",
     "text": [
      "[ 0.07433376 -0.93678296  0.29494452 ...  0.28647643  0.7633692\n",
      "  0.42629832]\n"
     ]
    },
    {
     "name": "stderr",
     "output_type": "stream",
     "text": [
      "[I 2019-02-16 00:17:27,369] Finished a trial resulted in value: 3.6876845359802246. Current best value is 3.6876845359802246 with parameters: {'learning_rate': 0.5660207381176522, 'booster': 'gbtree', 'lambda': 0.033291560198818244, 'alpha': 4.819954954054186e-07, 'boosting': 'gbdt', 'num_leaves': 47, 'colsample_bytree': 0.3416605956676295, 'subsample': 0.7519878697577898, 'max_depth': 5, 'reg_lambda': 8.457687880825006, 'eta': 1.3856399226843139e-08, 'gamma': 7.917962263345229e-07, 'grow_policy': 'depthwise'}.\n"
     ]
    },
    {
     "name": "stdout",
     "output_type": "stream",
     "text": [
      "[-0.7724675   0.05362707 -0.6163212  ...  0.43691957 -0.12910557\n",
      "  0.30095977]\n"
     ]
    },
    {
     "name": "stderr",
     "output_type": "stream",
     "text": [
      "[I 2019-02-16 00:17:57,604] Finished a trial resulted in value: 4.095405101776123. Current best value is 3.6876845359802246 with parameters: {'learning_rate': 0.5660207381176522, 'booster': 'gbtree', 'lambda': 0.033291560198818244, 'alpha': 4.819954954054186e-07, 'boosting': 'gbdt', 'num_leaves': 47, 'colsample_bytree': 0.3416605956676295, 'subsample': 0.7519878697577898, 'max_depth': 5, 'reg_lambda': 8.457687880825006, 'eta': 1.3856399226843139e-08, 'gamma': 7.917962263345229e-07, 'grow_policy': 'depthwise'}.\n"
     ]
    },
    {
     "name": "stdout",
     "output_type": "stream",
     "text": [
      "[ 1.0312648   0.8002332  -0.08219504 ... -0.48793203 -0.09385777\n",
      " -0.9423988 ]\n"
     ]
    },
    {
     "name": "stderr",
     "output_type": "stream",
     "text": [
      "[I 2019-02-16 00:18:11,935] Finished a trial resulted in value: 3.8158414363861084. Current best value is 3.6876845359802246 with parameters: {'learning_rate': 0.5660207381176522, 'booster': 'gbtree', 'lambda': 0.033291560198818244, 'alpha': 4.819954954054186e-07, 'boosting': 'gbdt', 'num_leaves': 47, 'colsample_bytree': 0.3416605956676295, 'subsample': 0.7519878697577898, 'max_depth': 5, 'reg_lambda': 8.457687880825006, 'eta': 1.3856399226843139e-08, 'gamma': 7.917962263345229e-07, 'grow_policy': 'depthwise'}.\n"
     ]
    },
    {
     "name": "stdout",
     "output_type": "stream",
     "text": [
      "[-1.5126746   1.789172    0.21871978 ...  0.15067023 -0.0411703\n",
      " -0.18008935]\n"
     ]
    },
    {
     "name": "stderr",
     "output_type": "stream",
     "text": [
      "[I 2019-02-16 00:19:15,565] Finished a trial resulted in value: 4.405913352966309. Current best value is 3.6876845359802246 with parameters: {'learning_rate': 0.5660207381176522, 'booster': 'gbtree', 'lambda': 0.033291560198818244, 'alpha': 4.819954954054186e-07, 'boosting': 'gbdt', 'num_leaves': 47, 'colsample_bytree': 0.3416605956676295, 'subsample': 0.7519878697577898, 'max_depth': 5, 'reg_lambda': 8.457687880825006, 'eta': 1.3856399226843139e-08, 'gamma': 7.917962263345229e-07, 'grow_policy': 'depthwise'}.\n"
     ]
    },
    {
     "name": "stdout",
     "output_type": "stream",
     "text": [
      "[-0.45737344 -0.7103355  -1.1606362  ... -0.64119244 -1.5022366\n",
      "  0.870435  ]\n"
     ]
    },
    {
     "name": "stderr",
     "output_type": "stream",
     "text": [
      "[I 2019-02-16 00:19:27,976] Finished a trial resulted in value: 3.718160390853882. Current best value is 3.6876845359802246 with parameters: {'learning_rate': 0.5660207381176522, 'booster': 'gbtree', 'lambda': 0.033291560198818244, 'alpha': 4.819954954054186e-07, 'boosting': 'gbdt', 'num_leaves': 47, 'colsample_bytree': 0.3416605956676295, 'subsample': 0.7519878697577898, 'max_depth': 5, 'reg_lambda': 8.457687880825006, 'eta': 1.3856399226843139e-08, 'gamma': 7.917962263345229e-07, 'grow_policy': 'depthwise'}.\n"
     ]
    },
    {
     "name": "stdout",
     "output_type": "stream",
     "text": [
      "[ 0.6306784   0.7491187  -0.8701662  ... -0.8533404  -0.21722811\n",
      " -0.16033018]\n"
     ]
    },
    {
     "name": "stderr",
     "output_type": "stream",
     "text": [
      "[I 2019-02-16 00:19:46,421] Finished a trial resulted in value: 3.705404758453369. Current best value is 3.6876845359802246 with parameters: {'learning_rate': 0.5660207381176522, 'booster': 'gbtree', 'lambda': 0.033291560198818244, 'alpha': 4.819954954054186e-07, 'boosting': 'gbdt', 'num_leaves': 47, 'colsample_bytree': 0.3416605956676295, 'subsample': 0.7519878697577898, 'max_depth': 5, 'reg_lambda': 8.457687880825006, 'eta': 1.3856399226843139e-08, 'gamma': 7.917962263345229e-07, 'grow_policy': 'depthwise'}.\n"
     ]
    },
    {
     "name": "stdout",
     "output_type": "stream",
     "text": [
      "[ 0.07231325 -0.3932677  -0.366691   ... -0.5012765  -0.03995746\n",
      " -0.3970738 ]\n"
     ]
    },
    {
     "name": "stderr",
     "output_type": "stream",
     "text": [
      "[I 2019-02-16 00:19:54,037] Finished a trial resulted in value: 3.749807834625244. Current best value is 3.6876845359802246 with parameters: {'learning_rate': 0.5660207381176522, 'booster': 'gbtree', 'lambda': 0.033291560198818244, 'alpha': 4.819954954054186e-07, 'boosting': 'gbdt', 'num_leaves': 47, 'colsample_bytree': 0.3416605956676295, 'subsample': 0.7519878697577898, 'max_depth': 5, 'reg_lambda': 8.457687880825006, 'eta': 1.3856399226843139e-08, 'gamma': 7.917962263345229e-07, 'grow_policy': 'depthwise'}.\n"
     ]
    },
    {
     "name": "stdout",
     "output_type": "stream",
     "text": [
      "[-0.75724936  0.725345   -0.0764752  ... -0.05545014  0.2844333\n",
      " -0.87639415]\n"
     ]
    },
    {
     "name": "stderr",
     "output_type": "stream",
     "text": [
      "[I 2019-02-16 00:20:03,059] Finished a trial resulted in value: 3.730175495147705. Current best value is 3.6876845359802246 with parameters: {'learning_rate': 0.5660207381176522, 'booster': 'gbtree', 'lambda': 0.033291560198818244, 'alpha': 4.819954954054186e-07, 'boosting': 'gbdt', 'num_leaves': 47, 'colsample_bytree': 0.3416605956676295, 'subsample': 0.7519878697577898, 'max_depth': 5, 'reg_lambda': 8.457687880825006, 'eta': 1.3856399226843139e-08, 'gamma': 7.917962263345229e-07, 'grow_policy': 'depthwise'}.\n"
     ]
    },
    {
     "name": "stdout",
     "output_type": "stream",
     "text": [
      "[ 0.33717203 -1.3438759   0.47431535 ... -0.9453099  -0.41753983\n",
      " -1.890861  ]\n"
     ]
    },
    {
     "name": "stderr",
     "output_type": "stream",
     "text": [
      "[I 2019-02-16 00:20:54,406] Finished a trial resulted in value: 4.173310279846191. Current best value is 3.6876845359802246 with parameters: {'learning_rate': 0.5660207381176522, 'booster': 'gbtree', 'lambda': 0.033291560198818244, 'alpha': 4.819954954054186e-07, 'boosting': 'gbdt', 'num_leaves': 47, 'colsample_bytree': 0.3416605956676295, 'subsample': 0.7519878697577898, 'max_depth': 5, 'reg_lambda': 8.457687880825006, 'eta': 1.3856399226843139e-08, 'gamma': 7.917962263345229e-07, 'grow_policy': 'depthwise'}.\n"
     ]
    },
    {
     "name": "stdout",
     "output_type": "stream",
     "text": [
      "[ 0.03946829  0.24270415  0.24450582 ... -1.5045123  -0.88415205\n",
      " -0.6118455 ]\n"
     ]
    },
    {
     "name": "stderr",
     "output_type": "stream",
     "text": [
      "[I 2019-02-16 00:21:13,469] Finished a trial resulted in value: 3.8192334175109863. Current best value is 3.6876845359802246 with parameters: {'learning_rate': 0.5660207381176522, 'booster': 'gbtree', 'lambda': 0.033291560198818244, 'alpha': 4.819954954054186e-07, 'boosting': 'gbdt', 'num_leaves': 47, 'colsample_bytree': 0.3416605956676295, 'subsample': 0.7519878697577898, 'max_depth': 5, 'reg_lambda': 8.457687880825006, 'eta': 1.3856399226843139e-08, 'gamma': 7.917962263345229e-07, 'grow_policy': 'depthwise'}.\n"
     ]
    },
    {
     "name": "stdout",
     "output_type": "stream",
     "text": [
      "[ 0.3651437   0.4604061   1.1374034  ... -0.01491529  0.772485\n",
      " -2.4225523 ]\n"
     ]
    },
    {
     "name": "stderr",
     "output_type": "stream",
     "text": [
      "[I 2019-02-16 00:21:55,346] Finished a trial resulted in value: 3.9219117164611816. Current best value is 3.6876845359802246 with parameters: {'learning_rate': 0.5660207381176522, 'booster': 'gbtree', 'lambda': 0.033291560198818244, 'alpha': 4.819954954054186e-07, 'boosting': 'gbdt', 'num_leaves': 47, 'colsample_bytree': 0.3416605956676295, 'subsample': 0.7519878697577898, 'max_depth': 5, 'reg_lambda': 8.457687880825006, 'eta': 1.3856399226843139e-08, 'gamma': 7.917962263345229e-07, 'grow_policy': 'depthwise'}.\n"
     ]
    },
    {
     "name": "stdout",
     "output_type": "stream",
     "text": [
      "[-0.10411799  0.09623116 -0.43491113 ... -0.03302646 -0.45090187\n",
      " -0.8082651 ]\n"
     ]
    },
    {
     "name": "stderr",
     "output_type": "stream",
     "text": [
      "[I 2019-02-16 00:23:04,344] Finished a trial resulted in value: 3.7902486324310303. Current best value is 3.6876845359802246 with parameters: {'learning_rate': 0.5660207381176522, 'booster': 'gbtree', 'lambda': 0.033291560198818244, 'alpha': 4.819954954054186e-07, 'boosting': 'gbdt', 'num_leaves': 47, 'colsample_bytree': 0.3416605956676295, 'subsample': 0.7519878697577898, 'max_depth': 5, 'reg_lambda': 8.457687880825006, 'eta': 1.3856399226843139e-08, 'gamma': 7.917962263345229e-07, 'grow_policy': 'depthwise'}.\n"
     ]
    },
    {
     "name": "stdout",
     "output_type": "stream",
     "text": [
      "[ 0.19340506 -0.3778761   0.16877407 ... -0.5467553   0.16594008\n",
      " -0.25385886]\n"
     ]
    },
    {
     "name": "stderr",
     "output_type": "stream",
     "text": [
      "[I 2019-02-16 00:23:22,140] Finished a trial resulted in value: 3.8360791206359863. Current best value is 3.6876845359802246 with parameters: {'learning_rate': 0.5660207381176522, 'booster': 'gbtree', 'lambda': 0.033291560198818244, 'alpha': 4.819954954054186e-07, 'boosting': 'gbdt', 'num_leaves': 47, 'colsample_bytree': 0.3416605956676295, 'subsample': 0.7519878697577898, 'max_depth': 5, 'reg_lambda': 8.457687880825006, 'eta': 1.3856399226843139e-08, 'gamma': 7.917962263345229e-07, 'grow_policy': 'depthwise'}.\n"
     ]
    },
    {
     "name": "stdout",
     "output_type": "stream",
     "text": [
      "[-1.0348852  -0.5681118  -0.4572361  ... -0.14504778  0.86847925\n",
      "  0.40647966]\n"
     ]
    },
    {
     "name": "stderr",
     "output_type": "stream",
     "text": [
      "[I 2019-02-16 00:24:00,682] Finished a trial resulted in value: 3.819176197052002. Current best value is 3.6876845359802246 with parameters: {'learning_rate': 0.5660207381176522, 'booster': 'gbtree', 'lambda': 0.033291560198818244, 'alpha': 4.819954954054186e-07, 'boosting': 'gbdt', 'num_leaves': 47, 'colsample_bytree': 0.3416605956676295, 'subsample': 0.7519878697577898, 'max_depth': 5, 'reg_lambda': 8.457687880825006, 'eta': 1.3856399226843139e-08, 'gamma': 7.917962263345229e-07, 'grow_policy': 'depthwise'}.\n"
     ]
    },
    {
     "name": "stdout",
     "output_type": "stream",
     "text": [
      "[-6.396469   -1.0714382  -1.0030966  ...  0.56350505  0.0343067\n",
      " -0.17300457]\n"
     ]
    },
    {
     "name": "stderr",
     "output_type": "stream",
     "text": [
      "[I 2019-02-16 00:24:14,985] Finished a trial resulted in value: 3.68611216545105. Current best value is 3.68611216545105 with parameters: {'learning_rate': 0.7196204181039426, 'booster': 'gbtree', 'lambda': 1.662635050667861e-05, 'alpha': 8.640906982103394e-07, 'boosting': 'gbdt', 'num_leaves': 35, 'colsample_bytree': 0.11061586398550552, 'subsample': 0.9062687479702374, 'max_depth': 6, 'reg_lambda': 4.463646220168377, 'eta': 2.6099727411370425e-07, 'gamma': 2.0477191510687003e-06, 'grow_policy': 'depthwise'}.\n"
     ]
    },
    {
     "name": "stdout",
     "output_type": "stream",
     "text": [
      "[-4.7489595  -9.711293   -0.8831167  ...  1.017335    1.691575\n",
      "  0.15814883]\n"
     ]
    },
    {
     "name": "stderr",
     "output_type": "stream",
     "text": [
      "[I 2019-02-16 00:24:55,691] Finished a trial resulted in value: 4.146380424499512. Current best value is 3.68611216545105 with parameters: {'learning_rate': 0.7196204181039426, 'booster': 'gbtree', 'lambda': 1.662635050667861e-05, 'alpha': 8.640906982103394e-07, 'boosting': 'gbdt', 'num_leaves': 35, 'colsample_bytree': 0.11061586398550552, 'subsample': 0.9062687479702374, 'max_depth': 6, 'reg_lambda': 4.463646220168377, 'eta': 2.6099727411370425e-07, 'gamma': 2.0477191510687003e-06, 'grow_policy': 'depthwise'}.\n"
     ]
    },
    {
     "name": "stdout",
     "output_type": "stream",
     "text": [
      "[ 5.7080519e-01  1.3945460e-01 -4.7479272e-03 ... -4.0976590e-01\n",
      " -2.5277357e+00 -1.7629339e+01]\n"
     ]
    },
    {
     "name": "stderr",
     "output_type": "stream",
     "text": [
      "[I 2019-02-16 00:25:35,640] Finished a trial resulted in value: 4.344083309173584. Current best value is 3.68611216545105 with parameters: {'learning_rate': 0.7196204181039426, 'booster': 'gbtree', 'lambda': 1.662635050667861e-05, 'alpha': 8.640906982103394e-07, 'boosting': 'gbdt', 'num_leaves': 35, 'colsample_bytree': 0.11061586398550552, 'subsample': 0.9062687479702374, 'max_depth': 6, 'reg_lambda': 4.463646220168377, 'eta': 2.6099727411370425e-07, 'gamma': 2.0477191510687003e-06, 'grow_policy': 'depthwise'}.\n"
     ]
    },
    {
     "name": "stdout",
     "output_type": "stream",
     "text": [
      "[-3.5492368   0.8173771  -0.3492769  ...  0.48227167 -0.891786\n",
      " -2.6138487 ]\n"
     ]
    },
    {
     "name": "stderr",
     "output_type": "stream",
     "text": [
      "[I 2019-02-16 00:26:16,128] Finished a trial resulted in value: 4.179199695587158. Current best value is 3.68611216545105 with parameters: {'learning_rate': 0.7196204181039426, 'booster': 'gbtree', 'lambda': 1.662635050667861e-05, 'alpha': 8.640906982103394e-07, 'boosting': 'gbdt', 'num_leaves': 35, 'colsample_bytree': 0.11061586398550552, 'subsample': 0.9062687479702374, 'max_depth': 6, 'reg_lambda': 4.463646220168377, 'eta': 2.6099727411370425e-07, 'gamma': 2.0477191510687003e-06, 'grow_policy': 'depthwise'}.\n"
     ]
    },
    {
     "name": "stdout",
     "output_type": "stream",
     "text": [
      "[0.14416495 0.14697313 0.07329655 ... 0.2139718  0.15851381 0.3647262 ]\n"
     ]
    },
    {
     "name": "stderr",
     "output_type": "stream",
     "text": [
      "[I 2019-02-16 00:26:51,831] Finished a trial resulted in value: 3.822019338607788. Current best value is 3.68611216545105 with parameters: {'learning_rate': 0.7196204181039426, 'booster': 'gbtree', 'lambda': 1.662635050667861e-05, 'alpha': 8.640906982103394e-07, 'boosting': 'gbdt', 'num_leaves': 35, 'colsample_bytree': 0.11061586398550552, 'subsample': 0.9062687479702374, 'max_depth': 6, 'reg_lambda': 4.463646220168377, 'eta': 2.6099727411370425e-07, 'gamma': 2.0477191510687003e-06, 'grow_policy': 'depthwise'}.\n"
     ]
    },
    {
     "name": "stdout",
     "output_type": "stream",
     "text": [
      "[ 0.38923788 -0.00765824  0.03207806 ...  0.37295267 -0.2912947\n",
      " -0.0439465 ]\n"
     ]
    },
    {
     "name": "stderr",
     "output_type": "stream",
     "text": [
      "[I 2019-02-16 00:27:02,994] Finished a trial resulted in value: 3.811558485031128. Current best value is 3.68611216545105 with parameters: {'learning_rate': 0.7196204181039426, 'booster': 'gbtree', 'lambda': 1.662635050667861e-05, 'alpha': 8.640906982103394e-07, 'boosting': 'gbdt', 'num_leaves': 35, 'colsample_bytree': 0.11061586398550552, 'subsample': 0.9062687479702374, 'max_depth': 6, 'reg_lambda': 4.463646220168377, 'eta': 2.6099727411370425e-07, 'gamma': 2.0477191510687003e-06, 'grow_policy': 'depthwise'}.\n"
     ]
    },
    {
     "name": "stdout",
     "output_type": "stream",
     "text": [
      "[ 0.2280947  -0.36801034  1.249922   ...  0.070467   -7.1909776\n",
      "  0.57890004]\n"
     ]
    },
    {
     "name": "stderr",
     "output_type": "stream",
     "text": [
      "[I 2019-02-16 00:27:27,589] Finished a trial resulted in value: 3.7889630794525146. Current best value is 3.68611216545105 with parameters: {'learning_rate': 0.7196204181039426, 'booster': 'gbtree', 'lambda': 1.662635050667861e-05, 'alpha': 8.640906982103394e-07, 'boosting': 'gbdt', 'num_leaves': 35, 'colsample_bytree': 0.11061586398550552, 'subsample': 0.9062687479702374, 'max_depth': 6, 'reg_lambda': 4.463646220168377, 'eta': 2.6099727411370425e-07, 'gamma': 2.0477191510687003e-06, 'grow_policy': 'depthwise'}.\n"
     ]
    },
    {
     "name": "stdout",
     "output_type": "stream",
     "text": [
      "[-0.46382576 -0.4222961  -0.28447193 ... -0.24173379 -0.28323615\n",
      "  0.6482275 ]\n"
     ]
    },
    {
     "name": "stderr",
     "output_type": "stream",
     "text": [
      "[I 2019-02-16 00:29:53,861] Finished a trial resulted in value: 3.726348400115967. Current best value is 3.68611216545105 with parameters: {'learning_rate': 0.7196204181039426, 'booster': 'gbtree', 'lambda': 1.662635050667861e-05, 'alpha': 8.640906982103394e-07, 'boosting': 'gbdt', 'num_leaves': 35, 'colsample_bytree': 0.11061586398550552, 'subsample': 0.9062687479702374, 'max_depth': 6, 'reg_lambda': 4.463646220168377, 'eta': 2.6099727411370425e-07, 'gamma': 2.0477191510687003e-06, 'grow_policy': 'depthwise'}.\n"
     ]
    },
    {
     "name": "stdout",
     "output_type": "stream",
     "text": [
      "[-0.96449435 -4.4030457  -0.02088928 ... -3.4316008   0.95899415\n",
      "  0.0938949 ]\n"
     ]
    },
    {
     "name": "stderr",
     "output_type": "stream",
     "text": [
      "[I 2019-02-16 00:30:04,542] Finished a trial resulted in value: 3.9153194427490234. Current best value is 3.68611216545105 with parameters: {'learning_rate': 0.7196204181039426, 'booster': 'gbtree', 'lambda': 1.662635050667861e-05, 'alpha': 8.640906982103394e-07, 'boosting': 'gbdt', 'num_leaves': 35, 'colsample_bytree': 0.11061586398550552, 'subsample': 0.9062687479702374, 'max_depth': 6, 'reg_lambda': 4.463646220168377, 'eta': 2.6099727411370425e-07, 'gamma': 2.0477191510687003e-06, 'grow_policy': 'depthwise'}.\n"
     ]
    },
    {
     "name": "stdout",
     "output_type": "stream",
     "text": [
      "[-0.42597365 -1.1159993   0.61522615 ...  0.98982954 -0.8296732\n",
      " -0.3978051 ]\n"
     ]
    },
    {
     "name": "stderr",
     "output_type": "stream",
     "text": [
      "[I 2019-02-16 00:30:23,382] Finished a trial resulted in value: 3.6697933673858643. Current best value is 3.6697933673858643 with parameters: {'learning_rate': 0.55702433111034, 'booster': 'gbtree', 'lambda': 0.8766584614594025, 'alpha': 3.022581841229969e-06, 'boosting': 'goss', 'num_leaves': 16, 'colsample_bytree': 0.6168081566183314, 'subsample': 0.955992824028476, 'max_depth': 6, 'reg_lambda': 9.30719111761173, 'eta': 1.413479683059261e-05, 'gamma': 0.00014850653956478808, 'grow_policy': 'depthwise'}.\n"
     ]
    },
    {
     "name": "stdout",
     "output_type": "stream",
     "text": [
      "[ 0.29096657 -0.69031906  0.30540353 ...  0.8748944  -0.5827532\n",
      "  0.09715068]\n"
     ]
    },
    {
     "name": "stderr",
     "output_type": "stream",
     "text": [
      "[I 2019-02-16 00:34:14,358] Finished a trial resulted in value: 4.011627197265625. Current best value is 3.6697933673858643 with parameters: {'learning_rate': 0.55702433111034, 'booster': 'gbtree', 'lambda': 0.8766584614594025, 'alpha': 3.022581841229969e-06, 'boosting': 'goss', 'num_leaves': 16, 'colsample_bytree': 0.6168081566183314, 'subsample': 0.955992824028476, 'max_depth': 6, 'reg_lambda': 9.30719111761173, 'eta': 1.413479683059261e-05, 'gamma': 0.00014850653956478808, 'grow_policy': 'depthwise'}.\n"
     ]
    },
    {
     "name": "stdout",
     "output_type": "stream",
     "text": [
      "[-4.175256   -1.151927   -0.56284    ... -0.26668918  0.17587703\n",
      "  0.37547526]\n"
     ]
    },
    {
     "name": "stderr",
     "output_type": "stream",
     "text": [
      "[I 2019-02-16 00:34:35,263] Finished a trial resulted in value: 3.8116538524627686. Current best value is 3.6697933673858643 with parameters: {'learning_rate': 0.55702433111034, 'booster': 'gbtree', 'lambda': 0.8766584614594025, 'alpha': 3.022581841229969e-06, 'boosting': 'goss', 'num_leaves': 16, 'colsample_bytree': 0.6168081566183314, 'subsample': 0.955992824028476, 'max_depth': 6, 'reg_lambda': 9.30719111761173, 'eta': 1.413479683059261e-05, 'gamma': 0.00014850653956478808, 'grow_policy': 'depthwise'}.\n"
     ]
    },
    {
     "name": "stdout",
     "output_type": "stream",
     "text": [
      "[ 0.43623984  0.37741342 -3.5358348  ...  0.01821986 -0.21901989\n",
      "  0.32535106]\n"
     ]
    },
    {
     "name": "stderr",
     "output_type": "stream",
     "text": [
      "[I 2019-02-16 00:35:13,248] Finished a trial resulted in value: 3.8509788513183594. Current best value is 3.6697933673858643 with parameters: {'learning_rate': 0.55702433111034, 'booster': 'gbtree', 'lambda': 0.8766584614594025, 'alpha': 3.022581841229969e-06, 'boosting': 'goss', 'num_leaves': 16, 'colsample_bytree': 0.6168081566183314, 'subsample': 0.955992824028476, 'max_depth': 6, 'reg_lambda': 9.30719111761173, 'eta': 1.413479683059261e-05, 'gamma': 0.00014850653956478808, 'grow_policy': 'depthwise'}.\n"
     ]
    },
    {
     "name": "stdout",
     "output_type": "stream",
     "text": [
      "[ 0.73090684 -0.8913511  -0.18859017 ...  0.27051887  0.6055917\n",
      "  0.28752196]\n"
     ]
    },
    {
     "name": "stderr",
     "output_type": "stream",
     "text": [
      "[I 2019-02-16 00:35:52,421] Finished a trial resulted in value: 3.7414298057556152. Current best value is 3.6697933673858643 with parameters: {'learning_rate': 0.55702433111034, 'booster': 'gbtree', 'lambda': 0.8766584614594025, 'alpha': 3.022581841229969e-06, 'boosting': 'goss', 'num_leaves': 16, 'colsample_bytree': 0.6168081566183314, 'subsample': 0.955992824028476, 'max_depth': 6, 'reg_lambda': 9.30719111761173, 'eta': 1.413479683059261e-05, 'gamma': 0.00014850653956478808, 'grow_policy': 'depthwise'}.\n"
     ]
    },
    {
     "name": "stdout",
     "output_type": "stream",
     "text": [
      "[0.49733263 0.4965406  0.51318353 ... 0.48073396 0.4876556  0.51182675]\n"
     ]
    },
    {
     "name": "stderr",
     "output_type": "stream",
     "text": [
      "[I 2019-02-16 00:41:46,419] Finished a trial resulted in value: 3.8766252994537354. Current best value is 3.6697933673858643 with parameters: {'learning_rate': 0.55702433111034, 'booster': 'gbtree', 'lambda': 0.8766584614594025, 'alpha': 3.022581841229969e-06, 'boosting': 'goss', 'num_leaves': 16, 'colsample_bytree': 0.6168081566183314, 'subsample': 0.955992824028476, 'max_depth': 6, 'reg_lambda': 9.30719111761173, 'eta': 1.413479683059261e-05, 'gamma': 0.00014850653956478808, 'grow_policy': 'depthwise'}.\n"
     ]
    },
    {
     "name": "stdout",
     "output_type": "stream",
     "text": [
      "[-0.2933637   0.11228621 -0.18042117 ...  0.21026596 -0.50637686\n",
      " -0.9246969 ]\n"
     ]
    },
    {
     "name": "stderr",
     "output_type": "stream",
     "text": [
      "[I 2019-02-16 00:42:51,803] Finished a trial resulted in value: 4.0005598068237305. Current best value is 3.6697933673858643 with parameters: {'learning_rate': 0.55702433111034, 'booster': 'gbtree', 'lambda': 0.8766584614594025, 'alpha': 3.022581841229969e-06, 'boosting': 'goss', 'num_leaves': 16, 'colsample_bytree': 0.6168081566183314, 'subsample': 0.955992824028476, 'max_depth': 6, 'reg_lambda': 9.30719111761173, 'eta': 1.413479683059261e-05, 'gamma': 0.00014850653956478808, 'grow_policy': 'depthwise'}.\n"
     ]
    },
    {
     "name": "stdout",
     "output_type": "stream",
     "text": [
      "[ 1.183561   -0.26583946  0.35113758 ...  1.5021384   0.3663988\n",
      " -1.1263045 ]\n"
     ]
    },
    {
     "name": "stderr",
     "output_type": "stream",
     "text": [
      "[I 2019-02-16 00:44:37,483] Finished a trial resulted in value: 4.041720390319824. Current best value is 3.6697933673858643 with parameters: {'learning_rate': 0.55702433111034, 'booster': 'gbtree', 'lambda': 0.8766584614594025, 'alpha': 3.022581841229969e-06, 'boosting': 'goss', 'num_leaves': 16, 'colsample_bytree': 0.6168081566183314, 'subsample': 0.955992824028476, 'max_depth': 6, 'reg_lambda': 9.30719111761173, 'eta': 1.413479683059261e-05, 'gamma': 0.00014850653956478808, 'grow_policy': 'depthwise'}.\n"
     ]
    },
    {
     "name": "stdout",
     "output_type": "stream",
     "text": [
      "[ 1.3496523  -1.5600514   0.74021167 ... -0.69841933  1.7028737\n",
      "  0.05578303]\n"
     ]
    },
    {
     "name": "stderr",
     "output_type": "stream",
     "text": [
      "[I 2019-02-16 00:45:01,362] Finished a trial resulted in value: 3.7747015953063965. Current best value is 3.6697933673858643 with parameters: {'learning_rate': 0.55702433111034, 'booster': 'gbtree', 'lambda': 0.8766584614594025, 'alpha': 3.022581841229969e-06, 'boosting': 'goss', 'num_leaves': 16, 'colsample_bytree': 0.6168081566183314, 'subsample': 0.955992824028476, 'max_depth': 6, 'reg_lambda': 9.30719111761173, 'eta': 1.413479683059261e-05, 'gamma': 0.00014850653956478808, 'grow_policy': 'depthwise'}.\n"
     ]
    },
    {
     "name": "stdout",
     "output_type": "stream",
     "text": [
      "[-0.3858472   0.3616989  -0.97098446 ... -0.10261655  3.576137\n",
      "  1.3815085 ]\n"
     ]
    },
    {
     "name": "stderr",
     "output_type": "stream",
     "text": [
      "[I 2019-02-16 00:46:25,828] Finished a trial resulted in value: 5.026631832122803. Current best value is 3.6697933673858643 with parameters: {'learning_rate': 0.55702433111034, 'booster': 'gbtree', 'lambda': 0.8766584614594025, 'alpha': 3.022581841229969e-06, 'boosting': 'goss', 'num_leaves': 16, 'colsample_bytree': 0.6168081566183314, 'subsample': 0.955992824028476, 'max_depth': 6, 'reg_lambda': 9.30719111761173, 'eta': 1.413479683059261e-05, 'gamma': 0.00014850653956478808, 'grow_policy': 'depthwise'}.\n"
     ]
    },
    {
     "name": "stdout",
     "output_type": "stream",
     "text": [
      "[-3.9341893   0.21200663 -2.8184724  ...  1.0844574  -3.1752262\n",
      " -0.27309746]\n"
     ]
    },
    {
     "name": "stderr",
     "output_type": "stream",
     "text": [
      "[I 2019-02-16 00:46:41,101] Finished a trial resulted in value: 4.733432769775391. Current best value is 3.6697933673858643 with parameters: {'learning_rate': 0.55702433111034, 'booster': 'gbtree', 'lambda': 0.8766584614594025, 'alpha': 3.022581841229969e-06, 'boosting': 'goss', 'num_leaves': 16, 'colsample_bytree': 0.6168081566183314, 'subsample': 0.955992824028476, 'max_depth': 6, 'reg_lambda': 9.30719111761173, 'eta': 1.413479683059261e-05, 'gamma': 0.00014850653956478808, 'grow_policy': 'depthwise'}.\n"
     ]
    },
    {
     "name": "stdout",
     "output_type": "stream",
     "text": [
      "[-0.12561381  0.19300205 -0.6726552  ...  0.69069165  1.6780664\n",
      " -0.16736525]\n"
     ]
    },
    {
     "name": "stderr",
     "output_type": "stream",
     "text": [
      "[I 2019-02-16 00:47:11,234] Finished a trial resulted in value: 3.9847164154052734. Current best value is 3.6697933673858643 with parameters: {'learning_rate': 0.55702433111034, 'booster': 'gbtree', 'lambda': 0.8766584614594025, 'alpha': 3.022581841229969e-06, 'boosting': 'goss', 'num_leaves': 16, 'colsample_bytree': 0.6168081566183314, 'subsample': 0.955992824028476, 'max_depth': 6, 'reg_lambda': 9.30719111761173, 'eta': 1.413479683059261e-05, 'gamma': 0.00014850653956478808, 'grow_policy': 'depthwise'}.\n"
     ]
    },
    {
     "name": "stdout",
     "output_type": "stream",
     "text": [
      "[ 0.06669629  0.28550464 -0.08993375 ... -0.4367295  -1.0118215\n",
      "  0.3292387 ]\n"
     ]
    },
    {
     "name": "stderr",
     "output_type": "stream",
     "text": [
      "[I 2019-02-16 00:48:06,548] Finished a trial resulted in value: 3.885795831680298. Current best value is 3.6697933673858643 with parameters: {'learning_rate': 0.55702433111034, 'booster': 'gbtree', 'lambda': 0.8766584614594025, 'alpha': 3.022581841229969e-06, 'boosting': 'goss', 'num_leaves': 16, 'colsample_bytree': 0.6168081566183314, 'subsample': 0.955992824028476, 'max_depth': 6, 'reg_lambda': 9.30719111761173, 'eta': 1.413479683059261e-05, 'gamma': 0.00014850653956478808, 'grow_policy': 'depthwise'}.\n"
     ]
    },
    {
     "name": "stdout",
     "output_type": "stream",
     "text": [
      "[-1.06371    -0.31226873 -0.7502878  ...  1.4086397  -0.48576844\n",
      " -0.13744003]\n"
     ]
    },
    {
     "name": "stderr",
     "output_type": "stream",
     "text": [
      "[I 2019-02-16 00:48:24,093] Finished a trial resulted in value: 3.8409018516540527. Current best value is 3.6697933673858643 with parameters: {'learning_rate': 0.55702433111034, 'booster': 'gbtree', 'lambda': 0.8766584614594025, 'alpha': 3.022581841229969e-06, 'boosting': 'goss', 'num_leaves': 16, 'colsample_bytree': 0.6168081566183314, 'subsample': 0.955992824028476, 'max_depth': 6, 'reg_lambda': 9.30719111761173, 'eta': 1.413479683059261e-05, 'gamma': 0.00014850653956478808, 'grow_policy': 'depthwise'}.\n"
     ]
    },
    {
     "name": "stdout",
     "output_type": "stream",
     "text": [
      "[-0.9642894   0.56483495 -1.1039807  ...  0.2605998  -1.41236\n",
      " -0.22156149]\n"
     ]
    },
    {
     "name": "stderr",
     "output_type": "stream",
     "text": [
      "[I 2019-02-16 00:49:43,128] Finished a trial resulted in value: 4.062689781188965. Current best value is 3.6697933673858643 with parameters: {'learning_rate': 0.55702433111034, 'booster': 'gbtree', 'lambda': 0.8766584614594025, 'alpha': 3.022581841229969e-06, 'boosting': 'goss', 'num_leaves': 16, 'colsample_bytree': 0.6168081566183314, 'subsample': 0.955992824028476, 'max_depth': 6, 'reg_lambda': 9.30719111761173, 'eta': 1.413479683059261e-05, 'gamma': 0.00014850653956478808, 'grow_policy': 'depthwise'}.\n"
     ]
    },
    {
     "name": "stdout",
     "output_type": "stream",
     "text": [
      "[-0.5109583   0.5289495  -0.44688243 ... -0.11380631 -1.1612031\n",
      " -3.9509811 ]\n"
     ]
    },
    {
     "name": "stderr",
     "output_type": "stream",
     "text": [
      "[I 2019-02-16 00:49:55,364] Finished a trial resulted in value: 3.7759828567504883. Current best value is 3.6697933673858643 with parameters: {'learning_rate': 0.55702433111034, 'booster': 'gbtree', 'lambda': 0.8766584614594025, 'alpha': 3.022581841229969e-06, 'boosting': 'goss', 'num_leaves': 16, 'colsample_bytree': 0.6168081566183314, 'subsample': 0.955992824028476, 'max_depth': 6, 'reg_lambda': 9.30719111761173, 'eta': 1.413479683059261e-05, 'gamma': 0.00014850653956478808, 'grow_policy': 'depthwise'}.\n"
     ]
    },
    {
     "name": "stdout",
     "output_type": "stream",
     "text": [
      "[-0.17693233  0.8540612  -0.78304136 ...  0.15571284 -0.06911677\n",
      " -1.0129741 ]\n"
     ]
    },
    {
     "name": "stderr",
     "output_type": "stream",
     "text": [
      "[I 2019-02-16 00:50:10,150] Finished a trial resulted in value: 3.6552131175994873. Current best value is 3.6552131175994873 with parameters: {'learning_rate': 0.5855316997529537, 'booster': 'dart', 'lambda': 5.419332553005056e-05, 'alpha': 0.0028230852863914413, 'boosting': 'gbdt', 'num_leaves': 17, 'colsample_bytree': 0.5896582468939884, 'subsample': 0.745449564824141, 'max_depth': 5, 'reg_lambda': 3.197621874618026, 'eta': 3.0219035401749735e-05, 'gamma': 4.387379769376927e-08, 'grow_policy': 'lossguide', 'sample_type': 'weighted', 'normalize_type': 'forest', 'rate_drop': 0.030895623212903237, 'skip_drop': 0.027259200885495945}.\n"
     ]
    },
    {
     "name": "stdout",
     "output_type": "stream",
     "text": [
      "[-0.2700793   0.19142044 -0.17098987 ...  0.39690614  0.1488739\n",
      "  0.42197075]\n"
     ]
    },
    {
     "name": "stderr",
     "output_type": "stream",
     "text": [
      "[I 2019-02-16 00:50:23,788] Finished a trial resulted in value: 3.7258718013763428. Current best value is 3.6552131175994873 with parameters: {'learning_rate': 0.5855316997529537, 'booster': 'dart', 'lambda': 5.419332553005056e-05, 'alpha': 0.0028230852863914413, 'boosting': 'gbdt', 'num_leaves': 17, 'colsample_bytree': 0.5896582468939884, 'subsample': 0.745449564824141, 'max_depth': 5, 'reg_lambda': 3.197621874618026, 'eta': 3.0219035401749735e-05, 'gamma': 4.387379769376927e-08, 'grow_policy': 'lossguide', 'sample_type': 'weighted', 'normalize_type': 'forest', 'rate_drop': 0.030895623212903237, 'skip_drop': 0.027259200885495945}.\n"
     ]
    },
    {
     "name": "stdout",
     "output_type": "stream",
     "text": [
      "[-0.08612782  0.3449583  -0.53497756 ... -2.351327    0.46045604\n",
      " -0.13402456]\n"
     ]
    },
    {
     "name": "stderr",
     "output_type": "stream",
     "text": [
      "[I 2019-02-16 00:51:36,920] Finished a trial resulted in value: 3.945667266845703. Current best value is 3.6552131175994873 with parameters: {'learning_rate': 0.5855316997529537, 'booster': 'dart', 'lambda': 5.419332553005056e-05, 'alpha': 0.0028230852863914413, 'boosting': 'gbdt', 'num_leaves': 17, 'colsample_bytree': 0.5896582468939884, 'subsample': 0.745449564824141, 'max_depth': 5, 'reg_lambda': 3.197621874618026, 'eta': 3.0219035401749735e-05, 'gamma': 4.387379769376927e-08, 'grow_policy': 'lossguide', 'sample_type': 'weighted', 'normalize_type': 'forest', 'rate_drop': 0.030895623212903237, 'skip_drop': 0.027259200885495945}.\n"
     ]
    },
    {
     "name": "stdout",
     "output_type": "stream",
     "text": [
      "[-2.118266    0.52886176  0.08350909 ...  0.46372032  0.852406\n",
      "  0.32678863]\n"
     ]
    },
    {
     "name": "stderr",
     "output_type": "stream",
     "text": [
      "[I 2019-02-16 00:52:00,369] Finished a trial resulted in value: 3.7801451683044434. Current best value is 3.6552131175994873 with parameters: {'learning_rate': 0.5855316997529537, 'booster': 'dart', 'lambda': 5.419332553005056e-05, 'alpha': 0.0028230852863914413, 'boosting': 'gbdt', 'num_leaves': 17, 'colsample_bytree': 0.5896582468939884, 'subsample': 0.745449564824141, 'max_depth': 5, 'reg_lambda': 3.197621874618026, 'eta': 3.0219035401749735e-05, 'gamma': 4.387379769376927e-08, 'grow_policy': 'lossguide', 'sample_type': 'weighted', 'normalize_type': 'forest', 'rate_drop': 0.030895623212903237, 'skip_drop': 0.027259200885495945}.\n"
     ]
    },
    {
     "name": "stdout",
     "output_type": "stream",
     "text": [
      "[-0.7206751  -0.5133734   0.40628755 ... -1.231437   -0.90308213\n",
      "  0.6353959 ]\n"
     ]
    },
    {
     "name": "stderr",
     "output_type": "stream",
     "text": [
      "[I 2019-02-16 00:53:26,453] Finished a trial resulted in value: 3.8395273685455322. Current best value is 3.6552131175994873 with parameters: {'learning_rate': 0.5855316997529537, 'booster': 'dart', 'lambda': 5.419332553005056e-05, 'alpha': 0.0028230852863914413, 'boosting': 'gbdt', 'num_leaves': 17, 'colsample_bytree': 0.5896582468939884, 'subsample': 0.745449564824141, 'max_depth': 5, 'reg_lambda': 3.197621874618026, 'eta': 3.0219035401749735e-05, 'gamma': 4.387379769376927e-08, 'grow_policy': 'lossguide', 'sample_type': 'weighted', 'normalize_type': 'forest', 'rate_drop': 0.030895623212903237, 'skip_drop': 0.027259200885495945}.\n"
     ]
    },
    {
     "name": "stdout",
     "output_type": "stream",
     "text": [
      "[0.39804357 0.5184635  0.16418937 ... 0.62516844 0.4253579  0.40047902]\n"
     ]
    },
    {
     "name": "stderr",
     "output_type": "stream",
     "text": [
      "[I 2019-02-16 00:59:19,603] Finished a trial resulted in value: 3.7410833835601807. Current best value is 3.6552131175994873 with parameters: {'learning_rate': 0.5855316997529537, 'booster': 'dart', 'lambda': 5.419332553005056e-05, 'alpha': 0.0028230852863914413, 'boosting': 'gbdt', 'num_leaves': 17, 'colsample_bytree': 0.5896582468939884, 'subsample': 0.745449564824141, 'max_depth': 5, 'reg_lambda': 3.197621874618026, 'eta': 3.0219035401749735e-05, 'gamma': 4.387379769376927e-08, 'grow_policy': 'lossguide', 'sample_type': 'weighted', 'normalize_type': 'forest', 'rate_drop': 0.030895623212903237, 'skip_drop': 0.027259200885495945}.\n"
     ]
    },
    {
     "name": "stdout",
     "output_type": "stream",
     "text": [
      "[-0.16616249 -0.27247208 -0.12201095 ...  0.62047935 -0.180457\n",
      " -0.23234761]\n"
     ]
    },
    {
     "name": "stderr",
     "output_type": "stream",
     "text": [
      "[I 2019-02-16 00:59:50,385] Finished a trial resulted in value: 3.6992244720458984. Current best value is 3.6552131175994873 with parameters: {'learning_rate': 0.5855316997529537, 'booster': 'dart', 'lambda': 5.419332553005056e-05, 'alpha': 0.0028230852863914413, 'boosting': 'gbdt', 'num_leaves': 17, 'colsample_bytree': 0.5896582468939884, 'subsample': 0.745449564824141, 'max_depth': 5, 'reg_lambda': 3.197621874618026, 'eta': 3.0219035401749735e-05, 'gamma': 4.387379769376927e-08, 'grow_policy': 'lossguide', 'sample_type': 'weighted', 'normalize_type': 'forest', 'rate_drop': 0.030895623212903237, 'skip_drop': 0.027259200885495945}.\n"
     ]
    },
    {
     "name": "stdout",
     "output_type": "stream",
     "text": [
      "[ 0.38811627  0.1766446   0.52496326 ...  0.23582125 -0.06145185\n",
      "  0.36743286]\n"
     ]
    },
    {
     "name": "stderr",
     "output_type": "stream",
     "text": [
      "[I 2019-02-16 01:01:05,903] Finished a trial resulted in value: 3.8125455379486084. Current best value is 3.6552131175994873 with parameters: {'learning_rate': 0.5855316997529537, 'booster': 'dart', 'lambda': 5.419332553005056e-05, 'alpha': 0.0028230852863914413, 'boosting': 'gbdt', 'num_leaves': 17, 'colsample_bytree': 0.5896582468939884, 'subsample': 0.745449564824141, 'max_depth': 5, 'reg_lambda': 3.197621874618026, 'eta': 3.0219035401749735e-05, 'gamma': 4.387379769376927e-08, 'grow_policy': 'lossguide', 'sample_type': 'weighted', 'normalize_type': 'forest', 'rate_drop': 0.030895623212903237, 'skip_drop': 0.027259200885495945}.\n"
     ]
    },
    {
     "name": "stdout",
     "output_type": "stream",
     "text": [
      "[-0.9166105  -0.06233531  0.65477914 ...  0.19518676 -0.5273235\n",
      "  0.15363646]\n"
     ]
    },
    {
     "name": "stderr",
     "output_type": "stream",
     "text": [
      "[I 2019-02-16 01:01:41,822] Finished a trial resulted in value: 3.7623047828674316. Current best value is 3.6552131175994873 with parameters: {'learning_rate': 0.5855316997529537, 'booster': 'dart', 'lambda': 5.419332553005056e-05, 'alpha': 0.0028230852863914413, 'boosting': 'gbdt', 'num_leaves': 17, 'colsample_bytree': 0.5896582468939884, 'subsample': 0.745449564824141, 'max_depth': 5, 'reg_lambda': 3.197621874618026, 'eta': 3.0219035401749735e-05, 'gamma': 4.387379769376927e-08, 'grow_policy': 'lossguide', 'sample_type': 'weighted', 'normalize_type': 'forest', 'rate_drop': 0.030895623212903237, 'skip_drop': 0.027259200885495945}.\n"
     ]
    },
    {
     "name": "stdout",
     "output_type": "stream",
     "text": [
      "[-0.50676095 -0.6650543   0.7089866  ...  0.06781849 -0.66988456\n",
      " -1.0192823 ]\n"
     ]
    },
    {
     "name": "stderr",
     "output_type": "stream",
     "text": [
      "[I 2019-02-16 01:01:54,035] Finished a trial resulted in value: 3.7627429962158203. Current best value is 3.6552131175994873 with parameters: {'learning_rate': 0.5855316997529537, 'booster': 'dart', 'lambda': 5.419332553005056e-05, 'alpha': 0.0028230852863914413, 'boosting': 'gbdt', 'num_leaves': 17, 'colsample_bytree': 0.5896582468939884, 'subsample': 0.745449564824141, 'max_depth': 5, 'reg_lambda': 3.197621874618026, 'eta': 3.0219035401749735e-05, 'gamma': 4.387379769376927e-08, 'grow_policy': 'lossguide', 'sample_type': 'weighted', 'normalize_type': 'forest', 'rate_drop': 0.030895623212903237, 'skip_drop': 0.027259200885495945}.\n"
     ]
    },
    {
     "name": "stdout",
     "output_type": "stream",
     "text": [
      "[0.5 0.5 0.5 ... 0.5 0.5 0.5]\n"
     ]
    },
    {
     "name": "stderr",
     "output_type": "stream",
     "text": [
      "[I 2019-02-16 01:08:32,664] Finished a trial resulted in value: 3.8141939640045166. Current best value is 3.6552131175994873 with parameters: {'learning_rate': 0.5855316997529537, 'booster': 'dart', 'lambda': 5.419332553005056e-05, 'alpha': 0.0028230852863914413, 'boosting': 'gbdt', 'num_leaves': 17, 'colsample_bytree': 0.5896582468939884, 'subsample': 0.745449564824141, 'max_depth': 5, 'reg_lambda': 3.197621874618026, 'eta': 3.0219035401749735e-05, 'gamma': 4.387379769376927e-08, 'grow_policy': 'lossguide', 'sample_type': 'weighted', 'normalize_type': 'forest', 'rate_drop': 0.030895623212903237, 'skip_drop': 0.027259200885495945}.\n"
     ]
    },
    {
     "name": "stdout",
     "output_type": "stream",
     "text": [
      "[-0.54295754  0.15061623 -6.659298   ...  0.3390314   0.40523085\n",
      "  1.0034196 ]\n"
     ]
    },
    {
     "name": "stderr",
     "output_type": "stream",
     "text": [
      "[I 2019-02-16 01:09:30,780] Finished a trial resulted in value: 3.987070083618164. Current best value is 3.6552131175994873 with parameters: {'learning_rate': 0.5855316997529537, 'booster': 'dart', 'lambda': 5.419332553005056e-05, 'alpha': 0.0028230852863914413, 'boosting': 'gbdt', 'num_leaves': 17, 'colsample_bytree': 0.5896582468939884, 'subsample': 0.745449564824141, 'max_depth': 5, 'reg_lambda': 3.197621874618026, 'eta': 3.0219035401749735e-05, 'gamma': 4.387379769376927e-08, 'grow_policy': 'lossguide', 'sample_type': 'weighted', 'normalize_type': 'forest', 'rate_drop': 0.030895623212903237, 'skip_drop': 0.027259200885495945}.\n"
     ]
    },
    {
     "name": "stdout",
     "output_type": "stream",
     "text": [
      "[-0.24717534 -1.6689589  -1.9616737  ...  0.12949458  0.22345838\n",
      " -1.2277464 ]\n"
     ]
    },
    {
     "name": "stderr",
     "output_type": "stream",
     "text": [
      "[I 2019-02-16 01:12:29,039] Finished a trial resulted in value: 3.8405466079711914. Current best value is 3.6552131175994873 with parameters: {'learning_rate': 0.5855316997529537, 'booster': 'dart', 'lambda': 5.419332553005056e-05, 'alpha': 0.0028230852863914413, 'boosting': 'gbdt', 'num_leaves': 17, 'colsample_bytree': 0.5896582468939884, 'subsample': 0.745449564824141, 'max_depth': 5, 'reg_lambda': 3.197621874618026, 'eta': 3.0219035401749735e-05, 'gamma': 4.387379769376927e-08, 'grow_policy': 'lossguide', 'sample_type': 'weighted', 'normalize_type': 'forest', 'rate_drop': 0.030895623212903237, 'skip_drop': 0.027259200885495945}.\n"
     ]
    },
    {
     "name": "stdout",
     "output_type": "stream",
     "text": [
      "[-1.5635872   0.49475586 -0.3087451  ...  0.06124187 -0.3028515\n",
      " -0.43144822]\n"
     ]
    },
    {
     "name": "stderr",
     "output_type": "stream",
     "text": [
      "[I 2019-02-16 01:13:08,701] Finished a trial resulted in value: 3.7557878494262695. Current best value is 3.6552131175994873 with parameters: {'learning_rate': 0.5855316997529537, 'booster': 'dart', 'lambda': 5.419332553005056e-05, 'alpha': 0.0028230852863914413, 'boosting': 'gbdt', 'num_leaves': 17, 'colsample_bytree': 0.5896582468939884, 'subsample': 0.745449564824141, 'max_depth': 5, 'reg_lambda': 3.197621874618026, 'eta': 3.0219035401749735e-05, 'gamma': 4.387379769376927e-08, 'grow_policy': 'lossguide', 'sample_type': 'weighted', 'normalize_type': 'forest', 'rate_drop': 0.030895623212903237, 'skip_drop': 0.027259200885495945}.\n"
     ]
    },
    {
     "name": "stdout",
     "output_type": "stream",
     "text": [
      "[-0.8495126  -0.751086   -0.5317681  ... -0.972355   -0.28244698\n",
      "  0.6833976 ]\n"
     ]
    },
    {
     "name": "stderr",
     "output_type": "stream",
     "text": [
      "[I 2019-02-16 01:13:20,590] Finished a trial resulted in value: 3.765474796295166. Current best value is 3.6552131175994873 with parameters: {'learning_rate': 0.5855316997529537, 'booster': 'dart', 'lambda': 5.419332553005056e-05, 'alpha': 0.0028230852863914413, 'boosting': 'gbdt', 'num_leaves': 17, 'colsample_bytree': 0.5896582468939884, 'subsample': 0.745449564824141, 'max_depth': 5, 'reg_lambda': 3.197621874618026, 'eta': 3.0219035401749735e-05, 'gamma': 4.387379769376927e-08, 'grow_policy': 'lossguide', 'sample_type': 'weighted', 'normalize_type': 'forest', 'rate_drop': 0.030895623212903237, 'skip_drop': 0.027259200885495945}.\n"
     ]
    },
    {
     "name": "stdout",
     "output_type": "stream",
     "text": [
      "[ 1.6377505   0.4717108   0.92293286 ... -0.36077     0.94914854\n",
      "  0.36858594]\n"
     ]
    },
    {
     "name": "stderr",
     "output_type": "stream",
     "text": [
      "[I 2019-02-16 01:13:32,035] Finished a trial resulted in value: 3.785224199295044. Current best value is 3.6552131175994873 with parameters: {'learning_rate': 0.5855316997529537, 'booster': 'dart', 'lambda': 5.419332553005056e-05, 'alpha': 0.0028230852863914413, 'boosting': 'gbdt', 'num_leaves': 17, 'colsample_bytree': 0.5896582468939884, 'subsample': 0.745449564824141, 'max_depth': 5, 'reg_lambda': 3.197621874618026, 'eta': 3.0219035401749735e-05, 'gamma': 4.387379769376927e-08, 'grow_policy': 'lossguide', 'sample_type': 'weighted', 'normalize_type': 'forest', 'rate_drop': 0.030895623212903237, 'skip_drop': 0.027259200885495945}.\n"
     ]
    },
    {
     "name": "stdout",
     "output_type": "stream",
     "text": [
      "[ 0.15179959  0.41959032  0.16754147 ... -0.01005977 -1.0156881\n",
      " -0.0280174 ]\n"
     ]
    },
    {
     "name": "stderr",
     "output_type": "stream",
     "text": [
      "[I 2019-02-16 01:13:44,869] Finished a trial resulted in value: 3.6498684883117676. Current best value is 3.6498684883117676 with parameters: {'learning_rate': 0.5843131085630997, 'booster': 'gbtree', 'lambda': 1.534521654591073e-07, 'alpha': 1.0239095745311145e-08, 'boosting': 'gbdt', 'num_leaves': 31, 'colsample_bytree': 0.5406862297709868, 'subsample': 0.9594952525792275, 'max_depth': 5, 'reg_lambda': 3.143121436123109, 'eta': 2.9162386740282797e-07, 'gamma': 6.015464829655147e-07, 'grow_policy': 'depthwise'}.\n"
     ]
    },
    {
     "name": "stdout",
     "output_type": "stream",
     "text": [
      "[ 0.01143187 -0.22595537  0.13811457 ...  0.6706455  -0.59167325\n",
      "  0.45863494]\n"
     ]
    },
    {
     "name": "stderr",
     "output_type": "stream",
     "text": [
      "[I 2019-02-16 01:13:55,530] Finished a trial resulted in value: 3.699458360671997. Current best value is 3.6498684883117676 with parameters: {'learning_rate': 0.5843131085630997, 'booster': 'gbtree', 'lambda': 1.534521654591073e-07, 'alpha': 1.0239095745311145e-08, 'boosting': 'gbdt', 'num_leaves': 31, 'colsample_bytree': 0.5406862297709868, 'subsample': 0.9594952525792275, 'max_depth': 5, 'reg_lambda': 3.143121436123109, 'eta': 2.9162386740282797e-07, 'gamma': 6.015464829655147e-07, 'grow_policy': 'depthwise'}.\n"
     ]
    },
    {
     "name": "stdout",
     "output_type": "stream",
     "text": [
      "[-0.10205346 -0.94398713  1.1102486  ... -0.28825265 -0.10140222\n",
      " -0.1842506 ]\n"
     ]
    },
    {
     "name": "stderr",
     "output_type": "stream",
     "text": [
      "[I 2019-02-16 01:14:17,381] Finished a trial resulted in value: 3.665867328643799. Current best value is 3.6498684883117676 with parameters: {'learning_rate': 0.5843131085630997, 'booster': 'gbtree', 'lambda': 1.534521654591073e-07, 'alpha': 1.0239095745311145e-08, 'boosting': 'gbdt', 'num_leaves': 31, 'colsample_bytree': 0.5406862297709868, 'subsample': 0.9594952525792275, 'max_depth': 5, 'reg_lambda': 3.143121436123109, 'eta': 2.9162386740282797e-07, 'gamma': 6.015464829655147e-07, 'grow_policy': 'depthwise'}.\n"
     ]
    },
    {
     "name": "stdout",
     "output_type": "stream",
     "text": [
      "[-0.69737613  0.7259793  -0.6593003  ...  0.37321007 -2.144271\n",
      " -0.47272092]\n"
     ]
    },
    {
     "name": "stderr",
     "output_type": "stream",
     "text": [
      "[I 2019-02-16 01:14:30,022] Finished a trial resulted in value: 3.743046998977661. Current best value is 3.6498684883117676 with parameters: {'learning_rate': 0.5843131085630997, 'booster': 'gbtree', 'lambda': 1.534521654591073e-07, 'alpha': 1.0239095745311145e-08, 'boosting': 'gbdt', 'num_leaves': 31, 'colsample_bytree': 0.5406862297709868, 'subsample': 0.9594952525792275, 'max_depth': 5, 'reg_lambda': 3.143121436123109, 'eta': 2.9162386740282797e-07, 'gamma': 6.015464829655147e-07, 'grow_policy': 'depthwise'}.\n"
     ]
    },
    {
     "name": "stdout",
     "output_type": "stream",
     "text": [
      "[-0.45093143 -0.09247398  0.48578644 ...  0.36446095  0.1892092\n",
      " -0.28445667]\n"
     ]
    },
    {
     "name": "stderr",
     "output_type": "stream",
     "text": [
      "[I 2019-02-16 01:14:47,852] Finished a trial resulted in value: 3.6583304405212402. Current best value is 3.6498684883117676 with parameters: {'learning_rate': 0.5843131085630997, 'booster': 'gbtree', 'lambda': 1.534521654591073e-07, 'alpha': 1.0239095745311145e-08, 'boosting': 'gbdt', 'num_leaves': 31, 'colsample_bytree': 0.5406862297709868, 'subsample': 0.9594952525792275, 'max_depth': 5, 'reg_lambda': 3.143121436123109, 'eta': 2.9162386740282797e-07, 'gamma': 6.015464829655147e-07, 'grow_policy': 'depthwise'}.\n"
     ]
    },
    {
     "name": "stdout",
     "output_type": "stream",
     "text": [
      "[-0.24479347  0.10642779  0.18180272 ...  0.62305015 -0.9020214\n",
      " -0.17598581]\n"
     ]
    },
    {
     "name": "stderr",
     "output_type": "stream",
     "text": [
      "[I 2019-02-16 01:15:19,370] Finished a trial resulted in value: 3.84326434135437. Current best value is 3.6498684883117676 with parameters: {'learning_rate': 0.5843131085630997, 'booster': 'gbtree', 'lambda': 1.534521654591073e-07, 'alpha': 1.0239095745311145e-08, 'boosting': 'gbdt', 'num_leaves': 31, 'colsample_bytree': 0.5406862297709868, 'subsample': 0.9594952525792275, 'max_depth': 5, 'reg_lambda': 3.143121436123109, 'eta': 2.9162386740282797e-07, 'gamma': 6.015464829655147e-07, 'grow_policy': 'depthwise'}.\n"
     ]
    },
    {
     "name": "stdout",
     "output_type": "stream",
     "text": [
      "[-0.09526843 -0.8154042   0.72084796 ... -0.22479463 -0.3410102\n",
      " -4.0727215 ]\n"
     ]
    },
    {
     "name": "stderr",
     "output_type": "stream",
     "text": [
      "[I 2019-02-16 01:15:36,453] Finished a trial resulted in value: 3.6584534645080566. Current best value is 3.6498684883117676 with parameters: {'learning_rate': 0.5843131085630997, 'booster': 'gbtree', 'lambda': 1.534521654591073e-07, 'alpha': 1.0239095745311145e-08, 'boosting': 'gbdt', 'num_leaves': 31, 'colsample_bytree': 0.5406862297709868, 'subsample': 0.9594952525792275, 'max_depth': 5, 'reg_lambda': 3.143121436123109, 'eta': 2.9162386740282797e-07, 'gamma': 6.015464829655147e-07, 'grow_policy': 'depthwise'}.\n"
     ]
    },
    {
     "name": "stdout",
     "output_type": "stream",
     "text": [
      "[ 0.2238468  -0.5532186   0.1218386  ... -2.0283973  -0.206034\n",
      " -0.04057997]\n"
     ]
    },
    {
     "name": "stderr",
     "output_type": "stream",
     "text": [
      "[I 2019-02-16 01:15:50,342] Finished a trial resulted in value: 3.7340078353881836. Current best value is 3.6498684883117676 with parameters: {'learning_rate': 0.5843131085630997, 'booster': 'gbtree', 'lambda': 1.534521654591073e-07, 'alpha': 1.0239095745311145e-08, 'boosting': 'gbdt', 'num_leaves': 31, 'colsample_bytree': 0.5406862297709868, 'subsample': 0.9594952525792275, 'max_depth': 5, 'reg_lambda': 3.143121436123109, 'eta': 2.9162386740282797e-07, 'gamma': 6.015464829655147e-07, 'grow_policy': 'depthwise'}.\n"
     ]
    },
    {
     "name": "stdout",
     "output_type": "stream",
     "text": [
      "[-1.4865364  -0.7407017  -0.4027846  ... -0.8963566  -1.7262015\n",
      " -0.48766184]\n"
     ]
    },
    {
     "name": "stderr",
     "output_type": "stream",
     "text": [
      "[I 2019-02-16 01:16:13,338] Finished a trial resulted in value: 3.7254788875579834. Current best value is 3.6498684883117676 with parameters: {'learning_rate': 0.5843131085630997, 'booster': 'gbtree', 'lambda': 1.534521654591073e-07, 'alpha': 1.0239095745311145e-08, 'boosting': 'gbdt', 'num_leaves': 31, 'colsample_bytree': 0.5406862297709868, 'subsample': 0.9594952525792275, 'max_depth': 5, 'reg_lambda': 3.143121436123109, 'eta': 2.9162386740282797e-07, 'gamma': 6.015464829655147e-07, 'grow_policy': 'depthwise'}.\n"
     ]
    },
    {
     "name": "stdout",
     "output_type": "stream",
     "text": [
      "[-0.63722205  0.6148739   0.33053964 ... -0.46468973 -0.092278\n",
      "  0.3625906 ]\n"
     ]
    },
    {
     "name": "stderr",
     "output_type": "stream",
     "text": [
      "[I 2019-02-16 01:16:30,147] Finished a trial resulted in value: 3.702880382537842. Current best value is 3.6498684883117676 with parameters: {'learning_rate': 0.5843131085630997, 'booster': 'gbtree', 'lambda': 1.534521654591073e-07, 'alpha': 1.0239095745311145e-08, 'boosting': 'gbdt', 'num_leaves': 31, 'colsample_bytree': 0.5406862297709868, 'subsample': 0.9594952525792275, 'max_depth': 5, 'reg_lambda': 3.143121436123109, 'eta': 2.9162386740282797e-07, 'gamma': 6.015464829655147e-07, 'grow_policy': 'depthwise'}.\n"
     ]
    },
    {
     "name": "stdout",
     "output_type": "stream",
     "text": [
      "[-0.3315913   0.5634765  -0.29720056 ... -1.0736688  -0.12620634\n",
      " -3.0614674 ]\n"
     ]
    },
    {
     "name": "stderr",
     "output_type": "stream",
     "text": [
      "[I 2019-02-16 01:16:52,510] Finished a trial resulted in value: 3.720562696456909. Current best value is 3.6498684883117676 with parameters: {'learning_rate': 0.5843131085630997, 'booster': 'gbtree', 'lambda': 1.534521654591073e-07, 'alpha': 1.0239095745311145e-08, 'boosting': 'gbdt', 'num_leaves': 31, 'colsample_bytree': 0.5406862297709868, 'subsample': 0.9594952525792275, 'max_depth': 5, 'reg_lambda': 3.143121436123109, 'eta': 2.9162386740282797e-07, 'gamma': 6.015464829655147e-07, 'grow_policy': 'depthwise'}.\n"
     ]
    },
    {
     "name": "stdout",
     "output_type": "stream",
     "text": [
      "[ 0.48006007  1.644546    0.45453513 ... -1.0034227   0.51911366\n",
      " -0.59682083]\n"
     ]
    },
    {
     "name": "stderr",
     "output_type": "stream",
     "text": [
      "[I 2019-02-16 01:17:32,919] Finished a trial resulted in value: 3.828763008117676. Current best value is 3.6498684883117676 with parameters: {'learning_rate': 0.5843131085630997, 'booster': 'gbtree', 'lambda': 1.534521654591073e-07, 'alpha': 1.0239095745311145e-08, 'boosting': 'gbdt', 'num_leaves': 31, 'colsample_bytree': 0.5406862297709868, 'subsample': 0.9594952525792275, 'max_depth': 5, 'reg_lambda': 3.143121436123109, 'eta': 2.9162386740282797e-07, 'gamma': 6.015464829655147e-07, 'grow_policy': 'depthwise'}.\n"
     ]
    },
    {
     "name": "stdout",
     "output_type": "stream",
     "text": [
      "[-0.5227097  -0.4759174  -0.33912194 ...  0.86509776 -0.5004859\n",
      " -0.3149857 ]\n"
     ]
    },
    {
     "name": "stderr",
     "output_type": "stream",
     "text": [
      "[I 2019-02-16 01:18:13,460] Finished a trial resulted in value: 3.8470606803894043. Current best value is 3.6498684883117676 with parameters: {'learning_rate': 0.5843131085630997, 'booster': 'gbtree', 'lambda': 1.534521654591073e-07, 'alpha': 1.0239095745311145e-08, 'boosting': 'gbdt', 'num_leaves': 31, 'colsample_bytree': 0.5406862297709868, 'subsample': 0.9594952525792275, 'max_depth': 5, 'reg_lambda': 3.143121436123109, 'eta': 2.9162386740282797e-07, 'gamma': 6.015464829655147e-07, 'grow_policy': 'depthwise'}.\n"
     ]
    },
    {
     "name": "stdout",
     "output_type": "stream",
     "text": [
      "[-0.19673997  1.0764657   0.2023415  ... -0.84697294  0.03313002\n",
      " -0.55757177]\n"
     ]
    },
    {
     "name": "stderr",
     "output_type": "stream",
     "text": [
      "[I 2019-02-16 01:18:27,064] Finished a trial resulted in value: 3.8185620307922363. Current best value is 3.6498684883117676 with parameters: {'learning_rate': 0.5843131085630997, 'booster': 'gbtree', 'lambda': 1.534521654591073e-07, 'alpha': 1.0239095745311145e-08, 'boosting': 'gbdt', 'num_leaves': 31, 'colsample_bytree': 0.5406862297709868, 'subsample': 0.9594952525792275, 'max_depth': 5, 'reg_lambda': 3.143121436123109, 'eta': 2.9162386740282797e-07, 'gamma': 6.015464829655147e-07, 'grow_policy': 'depthwise'}.\n"
     ]
    },
    {
     "name": "stdout",
     "output_type": "stream",
     "text": [
      "[ 0.01507178  0.12821549 -0.6976901  ...  0.80805004 -0.40901214\n",
      "  0.10669768]\n"
     ]
    },
    {
     "name": "stderr",
     "output_type": "stream",
     "text": [
      "[I 2019-02-16 01:18:41,565] Finished a trial resulted in value: 3.75624942779541. Current best value is 3.6498684883117676 with parameters: {'learning_rate': 0.5843131085630997, 'booster': 'gbtree', 'lambda': 1.534521654591073e-07, 'alpha': 1.0239095745311145e-08, 'boosting': 'gbdt', 'num_leaves': 31, 'colsample_bytree': 0.5406862297709868, 'subsample': 0.9594952525792275, 'max_depth': 5, 'reg_lambda': 3.143121436123109, 'eta': 2.9162386740282797e-07, 'gamma': 6.015464829655147e-07, 'grow_policy': 'depthwise'}.\n"
     ]
    },
    {
     "name": "stdout",
     "output_type": "stream",
     "text": [
      "[ 0.04076687 -0.40601796  0.34384125 ... -0.21062678  0.25628912\n",
      " -0.66754687]\n"
     ]
    },
    {
     "name": "stderr",
     "output_type": "stream",
     "text": [
      "[I 2019-02-16 01:20:00,033] Finished a trial resulted in value: 4.039798736572266. Current best value is 3.6498684883117676 with parameters: {'learning_rate': 0.5843131085630997, 'booster': 'gbtree', 'lambda': 1.534521654591073e-07, 'alpha': 1.0239095745311145e-08, 'boosting': 'gbdt', 'num_leaves': 31, 'colsample_bytree': 0.5406862297709868, 'subsample': 0.9594952525792275, 'max_depth': 5, 'reg_lambda': 3.143121436123109, 'eta': 2.9162386740282797e-07, 'gamma': 6.015464829655147e-07, 'grow_policy': 'depthwise'}.\n"
     ]
    },
    {
     "name": "stdout",
     "output_type": "stream",
     "text": [
      "[0.2668848  0.25995713 0.35610706 ... 0.24136063 0.21049711 0.61477125]\n"
     ]
    },
    {
     "name": "stderr",
     "output_type": "stream",
     "text": [
      "[I 2019-02-16 01:21:10,788] Finished a trial resulted in value: 3.8567261695861816. Current best value is 3.6498684883117676 with parameters: {'learning_rate': 0.5843131085630997, 'booster': 'gbtree', 'lambda': 1.534521654591073e-07, 'alpha': 1.0239095745311145e-08, 'boosting': 'gbdt', 'num_leaves': 31, 'colsample_bytree': 0.5406862297709868, 'subsample': 0.9594952525792275, 'max_depth': 5, 'reg_lambda': 3.143121436123109, 'eta': 2.9162386740282797e-07, 'gamma': 6.015464829655147e-07, 'grow_policy': 'depthwise'}.\n"
     ]
    },
    {
     "name": "stdout",
     "output_type": "stream",
     "text": [
      "[ 0.23822981  0.0156841  -0.9528432  ...  0.4266587  -0.16365683\n",
      " -1.2671208 ]\n"
     ]
    },
    {
     "name": "stderr",
     "output_type": "stream",
     "text": [
      "[I 2019-02-16 01:21:30,037] Finished a trial resulted in value: 3.8314037322998047. Current best value is 3.6498684883117676 with parameters: {'learning_rate': 0.5843131085630997, 'booster': 'gbtree', 'lambda': 1.534521654591073e-07, 'alpha': 1.0239095745311145e-08, 'boosting': 'gbdt', 'num_leaves': 31, 'colsample_bytree': 0.5406862297709868, 'subsample': 0.9594952525792275, 'max_depth': 5, 'reg_lambda': 3.143121436123109, 'eta': 2.9162386740282797e-07, 'gamma': 6.015464829655147e-07, 'grow_policy': 'depthwise'}.\n"
     ]
    },
    {
     "name": "stdout",
     "output_type": "stream",
     "text": [
      "[ 0.255938   -1.1537235  -0.36842632 ... -0.0717935   0.13294148\n",
      " -0.93074894]\n"
     ]
    },
    {
     "name": "stderr",
     "output_type": "stream",
     "text": [
      "[I 2019-02-16 01:21:44,231] Finished a trial resulted in value: 3.857192039489746. Current best value is 3.6498684883117676 with parameters: {'learning_rate': 0.5843131085630997, 'booster': 'gbtree', 'lambda': 1.534521654591073e-07, 'alpha': 1.0239095745311145e-08, 'boosting': 'gbdt', 'num_leaves': 31, 'colsample_bytree': 0.5406862297709868, 'subsample': 0.9594952525792275, 'max_depth': 5, 'reg_lambda': 3.143121436123109, 'eta': 2.9162386740282797e-07, 'gamma': 6.015464829655147e-07, 'grow_policy': 'depthwise'}.\n"
     ]
    },
    {
     "name": "stdout",
     "output_type": "stream",
     "text": [
      "[-0.43859422 -0.76033056 -0.08280808 ... -0.68286884 -0.0681299\n",
      "  0.02280748]\n"
     ]
    },
    {
     "name": "stderr",
     "output_type": "stream",
     "text": [
      "[I 2019-02-16 01:22:33,067] Finished a trial resulted in value: 3.856060743331909. Current best value is 3.6498684883117676 with parameters: {'learning_rate': 0.5843131085630997, 'booster': 'gbtree', 'lambda': 1.534521654591073e-07, 'alpha': 1.0239095745311145e-08, 'boosting': 'gbdt', 'num_leaves': 31, 'colsample_bytree': 0.5406862297709868, 'subsample': 0.9594952525792275, 'max_depth': 5, 'reg_lambda': 3.143121436123109, 'eta': 2.9162386740282797e-07, 'gamma': 6.015464829655147e-07, 'grow_policy': 'depthwise'}.\n"
     ]
    },
    {
     "name": "stdout",
     "output_type": "stream",
     "text": [
      "[-0.27719665 -1.8152483  -2.895942   ... -0.4964592  -0.02285963\n",
      "  0.21171442]\n"
     ]
    },
    {
     "name": "stderr",
     "output_type": "stream",
     "text": [
      "[I 2019-02-16 01:22:42,866] Finished a trial resulted in value: 3.7414352893829346. Current best value is 3.6498684883117676 with parameters: {'learning_rate': 0.5843131085630997, 'booster': 'gbtree', 'lambda': 1.534521654591073e-07, 'alpha': 1.0239095745311145e-08, 'boosting': 'gbdt', 'num_leaves': 31, 'colsample_bytree': 0.5406862297709868, 'subsample': 0.9594952525792275, 'max_depth': 5, 'reg_lambda': 3.143121436123109, 'eta': 2.9162386740282797e-07, 'gamma': 6.015464829655147e-07, 'grow_policy': 'depthwise'}.\n"
     ]
    },
    {
     "name": "stdout",
     "output_type": "stream",
     "text": [
      "[-0.18214363 -0.2186234   0.14819068 ... -0.0152179  -1.1566942\n",
      "  0.4177885 ]\n"
     ]
    },
    {
     "name": "stderr",
     "output_type": "stream",
     "text": [
      "[I 2019-02-16 01:23:03,471] Finished a trial resulted in value: 3.76100492477417. Current best value is 3.6498684883117676 with parameters: {'learning_rate': 0.5843131085630997, 'booster': 'gbtree', 'lambda': 1.534521654591073e-07, 'alpha': 1.0239095745311145e-08, 'boosting': 'gbdt', 'num_leaves': 31, 'colsample_bytree': 0.5406862297709868, 'subsample': 0.9594952525792275, 'max_depth': 5, 'reg_lambda': 3.143121436123109, 'eta': 2.9162386740282797e-07, 'gamma': 6.015464829655147e-07, 'grow_policy': 'depthwise'}.\n"
     ]
    },
    {
     "name": "stdout",
     "output_type": "stream",
     "text": [
      "[ 0.2770564  -0.46884793  0.33657837 ... -0.05130446 -0.01794827\n",
      "  0.6893119 ]\n"
     ]
    },
    {
     "name": "stderr",
     "output_type": "stream",
     "text": [
      "[I 2019-02-16 01:23:13,130] Finished a trial resulted in value: 3.8820950984954834. Current best value is 3.6498684883117676 with parameters: {'learning_rate': 0.5843131085630997, 'booster': 'gbtree', 'lambda': 1.534521654591073e-07, 'alpha': 1.0239095745311145e-08, 'boosting': 'gbdt', 'num_leaves': 31, 'colsample_bytree': 0.5406862297709868, 'subsample': 0.9594952525792275, 'max_depth': 5, 'reg_lambda': 3.143121436123109, 'eta': 2.9162386740282797e-07, 'gamma': 6.015464829655147e-07, 'grow_policy': 'depthwise'}.\n"
     ]
    },
    {
     "name": "stdout",
     "output_type": "stream",
     "text": [
      "[ 1.6612859 -0.1041593  2.1998959 ...  2.0113552  2.6818228 -0.2914195]\n"
     ]
    },
    {
     "name": "stderr",
     "output_type": "stream",
     "text": [
      "[I 2019-02-16 01:24:15,389] Finished a trial resulted in value: 4.515931606292725. Current best value is 3.6498684883117676 with parameters: {'learning_rate': 0.5843131085630997, 'booster': 'gbtree', 'lambda': 1.534521654591073e-07, 'alpha': 1.0239095745311145e-08, 'boosting': 'gbdt', 'num_leaves': 31, 'colsample_bytree': 0.5406862297709868, 'subsample': 0.9594952525792275, 'max_depth': 5, 'reg_lambda': 3.143121436123109, 'eta': 2.9162386740282797e-07, 'gamma': 6.015464829655147e-07, 'grow_policy': 'depthwise'}.\n"
     ]
    },
    {
     "name": "stdout",
     "output_type": "stream",
     "text": [
      "[-0.44632655  0.22513667 -5.6950006  ...  0.9422226   0.07913882\n",
      " -0.17222083]\n"
     ]
    },
    {
     "name": "stderr",
     "output_type": "stream",
     "text": [
      "[I 2019-02-16 01:24:40,978] Finished a trial resulted in value: 3.7709462642669678. Current best value is 3.6498684883117676 with parameters: {'learning_rate': 0.5843131085630997, 'booster': 'gbtree', 'lambda': 1.534521654591073e-07, 'alpha': 1.0239095745311145e-08, 'boosting': 'gbdt', 'num_leaves': 31, 'colsample_bytree': 0.5406862297709868, 'subsample': 0.9594952525792275, 'max_depth': 5, 'reg_lambda': 3.143121436123109, 'eta': 2.9162386740282797e-07, 'gamma': 6.015464829655147e-07, 'grow_policy': 'depthwise'}.\n"
     ]
    },
    {
     "name": "stdout",
     "output_type": "stream",
     "text": [
      "[ 0.12404153  0.34884346  0.89689285 ...  1.3788073  -0.63063717\n",
      "  0.7263056 ]\n"
     ]
    },
    {
     "name": "stderr",
     "output_type": "stream",
     "text": [
      "[I 2019-02-16 01:25:11,342] Finished a trial resulted in value: 3.8741455078125. Current best value is 3.6498684883117676 with parameters: {'learning_rate': 0.5843131085630997, 'booster': 'gbtree', 'lambda': 1.534521654591073e-07, 'alpha': 1.0239095745311145e-08, 'boosting': 'gbdt', 'num_leaves': 31, 'colsample_bytree': 0.5406862297709868, 'subsample': 0.9594952525792275, 'max_depth': 5, 'reg_lambda': 3.143121436123109, 'eta': 2.9162386740282797e-07, 'gamma': 6.015464829655147e-07, 'grow_policy': 'depthwise'}.\n"
     ]
    },
    {
     "name": "stdout",
     "output_type": "stream",
     "text": [
      "[-1.0845883   0.7228978  -0.19015759 ... -0.28858846  0.07060117\n",
      " -2.7534187 ]\n"
     ]
    },
    {
     "name": "stderr",
     "output_type": "stream",
     "text": [
      "[I 2019-02-16 01:25:27,444] Finished a trial resulted in value: 3.735905885696411. Current best value is 3.6498684883117676 with parameters: {'learning_rate': 0.5843131085630997, 'booster': 'gbtree', 'lambda': 1.534521654591073e-07, 'alpha': 1.0239095745311145e-08, 'boosting': 'gbdt', 'num_leaves': 31, 'colsample_bytree': 0.5406862297709868, 'subsample': 0.9594952525792275, 'max_depth': 5, 'reg_lambda': 3.143121436123109, 'eta': 2.9162386740282797e-07, 'gamma': 6.015464829655147e-07, 'grow_policy': 'depthwise'}.\n"
     ]
    },
    {
     "name": "stdout",
     "output_type": "stream",
     "text": [
      "[-1.1953604   0.97194266 -2.072057   ... -0.52068734 -0.3303672\n",
      "  0.55429786]\n"
     ]
    },
    {
     "name": "stderr",
     "output_type": "stream",
     "text": [
      "[I 2019-02-16 01:26:11,191] Finished a trial resulted in value: 4.162184715270996. Current best value is 3.6498684883117676 with parameters: {'learning_rate': 0.5843131085630997, 'booster': 'gbtree', 'lambda': 1.534521654591073e-07, 'alpha': 1.0239095745311145e-08, 'boosting': 'gbdt', 'num_leaves': 31, 'colsample_bytree': 0.5406862297709868, 'subsample': 0.9594952525792275, 'max_depth': 5, 'reg_lambda': 3.143121436123109, 'eta': 2.9162386740282797e-07, 'gamma': 6.015464829655147e-07, 'grow_policy': 'depthwise'}.\n"
     ]
    },
    {
     "name": "stdout",
     "output_type": "stream",
     "text": [
      "[-0.41018236 -2.3730865   1.2918799  ... -1.852664   -0.469629\n",
      "  0.12297341]\n"
     ]
    },
    {
     "name": "stderr",
     "output_type": "stream",
     "text": [
      "[I 2019-02-16 01:31:43,403] Finished a trial resulted in value: 3.9436891078948975. Current best value is 3.6498684883117676 with parameters: {'learning_rate': 0.5843131085630997, 'booster': 'gbtree', 'lambda': 1.534521654591073e-07, 'alpha': 1.0239095745311145e-08, 'boosting': 'gbdt', 'num_leaves': 31, 'colsample_bytree': 0.5406862297709868, 'subsample': 0.9594952525792275, 'max_depth': 5, 'reg_lambda': 3.143121436123109, 'eta': 2.9162386740282797e-07, 'gamma': 6.015464829655147e-07, 'grow_policy': 'depthwise'}.\n"
     ]
    },
    {
     "name": "stdout",
     "output_type": "stream",
     "text": [
      "[ 0.46798542  0.07848185 -0.10414463 ...  0.21643111  0.0984754\n",
      " -1.0959293 ]\n"
     ]
    },
    {
     "name": "stderr",
     "output_type": "stream",
     "text": [
      "[I 2019-02-16 01:33:43,016] Finished a trial resulted in value: 3.964841365814209. Current best value is 3.6498684883117676 with parameters: {'learning_rate': 0.5843131085630997, 'booster': 'gbtree', 'lambda': 1.534521654591073e-07, 'alpha': 1.0239095745311145e-08, 'boosting': 'gbdt', 'num_leaves': 31, 'colsample_bytree': 0.5406862297709868, 'subsample': 0.9594952525792275, 'max_depth': 5, 'reg_lambda': 3.143121436123109, 'eta': 2.9162386740282797e-07, 'gamma': 6.015464829655147e-07, 'grow_policy': 'depthwise'}.\n"
     ]
    },
    {
     "name": "stdout",
     "output_type": "stream",
     "text": [
      "[ 0.1508787   0.36601564 -3.8140616  ...  0.10932118  0.16258892\n",
      "  0.0895611 ]\n"
     ]
    },
    {
     "name": "stderr",
     "output_type": "stream",
     "text": [
      "[I 2019-02-16 01:33:59,277] Finished a trial resulted in value: 3.804269790649414. Current best value is 3.6498684883117676 with parameters: {'learning_rate': 0.5843131085630997, 'booster': 'gbtree', 'lambda': 1.534521654591073e-07, 'alpha': 1.0239095745311145e-08, 'boosting': 'gbdt', 'num_leaves': 31, 'colsample_bytree': 0.5406862297709868, 'subsample': 0.9594952525792275, 'max_depth': 5, 'reg_lambda': 3.143121436123109, 'eta': 2.9162386740282797e-07, 'gamma': 6.015464829655147e-07, 'grow_policy': 'depthwise'}.\n"
     ]
    },
    {
     "name": "stdout",
     "output_type": "stream",
     "text": [
      "[ 0.10015896 -0.19823587  0.23402879 ... -0.6545719  -0.6906996\n",
      " -0.07156599]\n"
     ]
    },
    {
     "name": "stderr",
     "output_type": "stream",
     "text": [
      "[I 2019-02-16 01:34:18,763] Finished a trial resulted in value: 3.690701723098755. Current best value is 3.6498684883117676 with parameters: {'learning_rate': 0.5843131085630997, 'booster': 'gbtree', 'lambda': 1.534521654591073e-07, 'alpha': 1.0239095745311145e-08, 'boosting': 'gbdt', 'num_leaves': 31, 'colsample_bytree': 0.5406862297709868, 'subsample': 0.9594952525792275, 'max_depth': 5, 'reg_lambda': 3.143121436123109, 'eta': 2.9162386740282797e-07, 'gamma': 6.015464829655147e-07, 'grow_policy': 'depthwise'}.\n"
     ]
    },
    {
     "name": "stdout",
     "output_type": "stream",
     "text": [
      "[-0.01237941 -0.31568915 -0.38106143 ...  0.8859701  -0.11560047\n",
      "  0.09249765]\n"
     ]
    },
    {
     "name": "stderr",
     "output_type": "stream",
     "text": [
      "[I 2019-02-16 01:34:26,559] Finished a trial resulted in value: 3.841815233230591. Current best value is 3.6498684883117676 with parameters: {'learning_rate': 0.5843131085630997, 'booster': 'gbtree', 'lambda': 1.534521654591073e-07, 'alpha': 1.0239095745311145e-08, 'boosting': 'gbdt', 'num_leaves': 31, 'colsample_bytree': 0.5406862297709868, 'subsample': 0.9594952525792275, 'max_depth': 5, 'reg_lambda': 3.143121436123109, 'eta': 2.9162386740282797e-07, 'gamma': 6.015464829655147e-07, 'grow_policy': 'depthwise'}.\n"
     ]
    },
    {
     "name": "stdout",
     "output_type": "stream",
     "text": [
      "Number of finished trials: 100\n",
      "Best trial:\n",
      "  Value: 3.6498684883117676\n",
      "  Params: \n",
      "    learning_rate: 0.5843131085630997\n",
      "    booster: gbtree\n",
      "    lambda: 1.534521654591073e-07\n",
      "    alpha: 1.0239095745311145e-08\n",
      "    boosting: gbdt\n",
      "    num_leaves: 31\n",
      "    colsample_bytree: 0.5406862297709868\n",
      "    subsample: 0.9594952525792275\n",
      "    max_depth: 5\n",
      "    reg_lambda: 3.143121436123109\n",
      "    eta: 2.9162386740282797e-07\n",
      "    gamma: 6.015464829655147e-07\n",
      "    grow_policy: depthwise\n"
     ]
    },
    {
     "ename": "NameError",
     "evalue": "name 'df' is not defined",
     "output_type": "error",
     "traceback": [
      "\u001b[1;31m---------------------------------------------------------------------------\u001b[0m",
      "\u001b[1;31mNameError\u001b[0m                                 Traceback (most recent call last)",
      "\u001b[1;32m<ipython-input-4-e8222ad77ebe>\u001b[0m in \u001b[0;36m<module>\u001b[1;34m()\u001b[0m\n\u001b[0;32m     23\u001b[0m         \u001b[0mhist_df\u001b[0m\u001b[1;33m.\u001b[0m\u001b[0mto_csv\u001b[0m\u001b[1;33m(\u001b[0m\u001b[1;34m\"optuna_result_xgbm.csv\"\u001b[0m\u001b[1;33m)\u001b[0m\u001b[1;33m\u001b[0m\u001b[0m\n\u001b[0;32m     24\u001b[0m \u001b[1;33m\u001b[0m\u001b[0m\n\u001b[1;32m---> 25\u001b[1;33m         \u001b[1;32mdel\u001b[0m \u001b[0mdf\u001b[0m\u001b[1;33m\u001b[0m\u001b[0m\n\u001b[0m\u001b[0;32m     26\u001b[0m         \u001b[0mgc\u001b[0m\u001b[1;33m.\u001b[0m\u001b[0mcollect\u001b[0m\u001b[1;33m(\u001b[0m\u001b[1;33m)\u001b[0m\u001b[1;33m\u001b[0m\u001b[0m\n",
      "\u001b[1;31mNameError\u001b[0m: name 'df' is not defined"
     ]
    }
   ],
   "source": [
    "with timer(\"split train & test\"):\n",
    "        '''train_df = reduce_mem_usage(pd.read_csv('train_clean.csv'))\n",
    "        test_df = reduce_mem_usage(pd.read_csv('test_clean.csv'))'''\n",
    "       \n",
    "        feature_importance_df = pd.DataFrame()\n",
    "        feats = [f for f in train_df.columns if f not in FEATS_EXCLUDED]\n",
    "        \n",
    "        study = optuna.create_study()\n",
    "        study.optimize(objective, n_trials=100)\n",
    "\n",
    "        print('Number of finished trials: {}'.format(len(study.trials)))\n",
    "\n",
    "        print('Best trial:')\n",
    "        trial = study.best_trial\n",
    "\n",
    "        print('  Value: {}'.format(trial.value))\n",
    "\n",
    "        print('  Params: ')\n",
    "        for key, value in trial.params.items():\n",
    "            print('    {}: {}'.format(key, value))\n",
    "        \n",
    "        hist_df = study.trials_dataframe()\n",
    "        hist_df.to_csv(\"optuna_result_xgbm.csv\")\n",
    "\n",
    "        del df\n",
    "        gc.collect()"
   ]
  },
  {
   "cell_type": "code",
   "execution_count": null,
   "metadata": {},
   "outputs": [],
   "source": [
    "#--------------------------------------"
   ]
  }
 ],
 "metadata": {
  "kernelspec": {
   "display_name": "Python 3",
   "language": "python",
   "name": "python3"
  },
  "language_info": {
   "codemirror_mode": {
    "name": "ipython",
    "version": 3
   },
   "file_extension": ".py",
   "mimetype": "text/x-python",
   "name": "python",
   "nbconvert_exporter": "python",
   "pygments_lexer": "ipython3",
   "version": "3.6.5"
  }
 },
 "nbformat": 4,
 "nbformat_minor": 2
}
