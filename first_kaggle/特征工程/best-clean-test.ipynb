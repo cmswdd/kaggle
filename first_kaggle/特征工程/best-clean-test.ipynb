{
 "cells": [
  {
   "cell_type": "code",
   "execution_count": 1,
   "metadata": {},
   "outputs": [],
   "source": [
    "import pandas as pd\n",
    "\n",
    "train_df2 = pd.read_csv('train_clean2.csv')\n",
    "train_df3 = pd.read_csv('train_clean3.csv')"
   ]
  },
  {
   "cell_type": "code",
   "execution_count": 4,
   "metadata": {
    "scrolled": true
   },
   "outputs": [
    {
     "name": "stdout",
     "output_type": "stream",
     "text": [
      "['first_active_month', 'feature_1', 'feature_2', 'feature_3', 'target', 'outliers', 'quarter', 'elapsed_time', 'days_feature_1', 'days_feature_1_ratio', 'days_feature_2', 'days_feature_2_ratio', 'days_feature_3', 'days_feature_3_ratio', 'features_sum', 'features_mean', 'features_max', 'features_min', 'features_var', 'features_prod', 'new_subsector_id_nunique', 'new_merchant_id_nunique', 'new_merchant_category_id_nunique', 'new_month_mean', 'new_month_min', 'new_month_max', 'new_hour_nunique', 'new_hour_mean', 'new_hour_min', 'new_hour_max', 'new_weekofyear_nunique', 'new_weekofyear_mean', 'new_weekofyear_min', 'new_weekofyear_max', 'new_weekday_mean', 'new_weekday_min', 'new_weekday_max', 'new_day_nunique', 'new_day_mean', 'new_day_min', 'new_day_max', 'new_purchase_amount_sum', 'new_purchase_amount_max', 'new_purchase_amount_min', 'new_purchase_amount_mean', 'new_purchase_amount_var', 'new_purchase_amount_skew', 'new_installments_sum', 'new_installments_max', 'new_installments_mean', 'new_installments_var', 'new_installments_skew', 'new_purchase_date_max', 'new_purchase_date_min', 'new_month_lag_max', 'new_month_lag_min', 'new_month_lag_mean', 'new_month_lag_var', 'new_month_lag_skew', 'new_month_diff_mean', 'new_month_diff_var', 'new_month_diff_skew', 'new_weekend_mean', 'new_category_1_mean', 'new_category_2_mean', 'new_category_3_mean', 'new_card_id_size', 'new_card_id_count', 'new_price_mean', 'new_price_max', 'new_price_min', 'new_price_var', 'new_Christmas_Day_2017_mean', 'new_Christmas_Day_2017_sum', 'new_Children_day_2017_mean', 'new_Children_day_2017_sum', 'new_Black_Friday_2017_mean', 'new_Black_Friday_2017_sum', 'new_Mothers_Day_2018_mean', 'new_Mothers_Day_2018_sum', 'new_duration_mean', 'new_duration_min', 'new_duration_max', 'new_duration_var', 'new_duration_skew', 'new_amount_month_ratio_mean', 'new_amount_month_ratio_min', 'new_amount_month_ratio_max', 'new_amount_month_ratio_var', 'new_amount_month_ratio_skew', 'new_category_2_mean_mean', 'new_category_3_mean_mean', 'new_CLV', 'new_purchase_date_diff', 'new_purchase_date_average', 'new_purchase_date_uptonow', 'new_purchase_date_uptomin', 'hist_subsector_id_nunique', 'hist_merchant_id_nunique', 'hist_merchant_category_id_nunique', 'hist_month_nunique', 'hist_month_mean', 'hist_month_min', 'hist_month_max', 'hist_hour_nunique', 'hist_hour_mean', 'hist_hour_min', 'hist_hour_max', 'hist_weekofyear_nunique', 'hist_weekofyear_mean', 'hist_weekofyear_min', 'hist_weekofyear_max', 'hist_weekday_mean', 'hist_day_nunique', 'hist_day_mean', 'hist_day_min', 'hist_purchase_amount_sum', 'hist_purchase_amount_max', 'hist_purchase_amount_min', 'hist_purchase_amount_mean', 'hist_purchase_amount_var', 'hist_purchase_amount_skew', 'hist_installments_sum', 'hist_installments_max', 'hist_installments_mean', 'hist_installments_var', 'hist_installments_skew', 'hist_purchase_date_max', 'hist_purchase_date_min', 'hist_month_lag_max', 'hist_month_lag_min', 'hist_month_lag_mean', 'hist_month_lag_var', 'hist_month_lag_skew', 'hist_month_diff_max', 'hist_month_diff_min', 'hist_month_diff_mean', 'hist_month_diff_var', 'hist_month_diff_skew', 'hist_authorized_flag_mean', 'hist_weekend_mean', 'hist_category_1_mean', 'hist_category_2_mean', 'hist_category_3_mean', 'hist_card_id_size', 'hist_card_id_count', 'hist_price_sum', 'hist_price_mean', 'hist_price_max', 'hist_price_min', 'hist_price_var', 'hist_Christmas_Day_2017_mean', 'hist_Christmas_Day_2017_sum', 'hist_Mothers_Day_2017_mean', 'hist_Mothers_Day_2017_sum', 'hist_fathers_day_2017_mean', 'hist_fathers_day_2017_sum', 'hist_Children_day_2017_mean', 'hist_Children_day_2017_sum', 'hist_Valentine_Day_2017_mean', 'hist_Valentine_Day_2017_sum', 'hist_Black_Friday_2017_mean', 'hist_Black_Friday_2017_sum', 'hist_Mothers_Day_2018_mean', 'hist_Mothers_Day_2018_sum', 'hist_duration_mean', 'hist_duration_min', 'hist_duration_max', 'hist_duration_var', 'hist_duration_skew', 'hist_amount_month_ratio_mean', 'hist_amount_month_ratio_min', 'hist_amount_month_ratio_max', 'hist_amount_month_ratio_var', 'hist_amount_month_ratio_skew', 'hist_category_2_mean_mean', 'hist_category_3_mean_mean', 'hist_CLV', 'hist_purchase_date_diff', 'hist_purchase_date_average', 'hist_purchase_date_uptonow', 'hist_purchase_date_uptomin', 'hist_first_buy', 'hist_last_buy', 'new_first_buy', 'new_last_buy', 'card_id_total', 'card_id_cnt_total', 'card_id_cnt_ratio', 'purchase_amount_total', 'purchase_amount_mean', 'purchase_amount_max', 'purchase_amount_min', 'purchase_amount_ratio', 'installments_total', 'installments_mean', 'installments_max', 'installments_ratio', 'price_total', 'price_mean', 'price_max', 'month_diff_mean', 'month_diff_ratio', 'month_lag_mean', 'month_lag_max', 'month_lag_min', 'category_1_mean', 'duration_mean', 'duration_min', 'duration_max', 'amount_month_ratio_mean', 'amount_month_ratio_min', 'amount_month_ratio_max', 'CLV_ratio', 'CLV_sq']\n"
     ]
    }
   ],
   "source": [
    "features2 = train_df2.columns.tolist()\n",
    "print(features2)"
   ]
  },
  {
   "cell_type": "code",
   "execution_count": 2,
   "metadata": {
    "scrolled": true
   },
   "outputs": [
    {
     "name": "stdout",
     "output_type": "stream",
     "text": [
      "['Unnamed: 0', 'feature_1', 'feature_2', 'feature_3', 'target', 'month', 'year', 'week', 'dayofweek', 'days', 'quarter', 'is_month_start', 'days_feature1', 'days_feature2', 'days_feature3', 'hist_transactions_count', 'hist_purchase_date_max', 'hist_purchase_date_min', 'hist_month_diff_mean', 'hist_month_diff_min', 'hist_month_diff_max', 'hist_month_diff_var', 'hist_weekend_sum', 'hist_weekend_mean', 'hist_authorized_flag_sum', 'hist_authorized_flag_mean', 'hist_category_1_sum', 'hist_category_1_mean', 'hist_category_1_max', 'hist_category_1_min', 'hist_purchase_amount_sum', 'hist_purchase_amount_mean', 'hist_purchase_amount_max', 'hist_purchase_amount_min', 'hist_purchase_amount_std', 'hist_installments_sum', 'hist_installments_mean', 'hist_installments_max', 'hist_installments_min', 'hist_installments_std', 'hist_month_lag_max', 'hist_month_lag_min', 'hist_month_lag_mean', 'hist_month_lag_var', 'hist_card_id_size', 'hist_month_nunique', 'hist_hour_nunique', 'hist_weekofyear_nunique', 'hist_dayofweek_nunique', 'hist_year_nunique', 'hist_subsector_id_nunique', 'hist_merchant_category_id_nunique', 'hist_purchase_date_diff', 'hist_purchase_date_average', 'hist_purchase_date_uptonow', 'hist_purchase_date_uptomin', 'hist_first_buy', 'new_transactions_count', 'new_purchase_date_max', 'new_purchase_date_min', 'new_month_diff_mean', 'new_month_diff_min', 'new_month_diff_max', 'new_month_diff_var', 'new_weekend_sum', 'new_weekend_mean', 'new_authorized_flag_sum', 'new_authorized_flag_mean', 'new_category_1_sum', 'new_category_1_mean', 'new_category_1_max', 'new_category_1_min', 'new_purchase_amount_sum', 'new_purchase_amount_mean', 'new_purchase_amount_max', 'new_purchase_amount_min', 'new_purchase_amount_std', 'new_installments_sum', 'new_installments_mean', 'new_installments_max', 'new_installments_min', 'new_installments_std', 'new_month_lag_max', 'new_month_lag_min', 'new_month_lag_mean', 'new_month_lag_var', 'new_card_id_size', 'new_month_nunique', 'new_hour_nunique', 'new_weekofyear_nunique', 'new_dayofweek_nunique', 'new_year_nunique', 'new_subsector_id_nunique', 'new_merchant_category_id_nunique', 'new_purchase_date_diff', 'new_purchase_date_average', 'new_purchase_date_uptonow', 'new_purchase_date_uptomin', 'new_first_buy', 'card_id_total', 'purchase_amount_total', 'outliers']\n"
     ]
    }
   ],
   "source": [
    "features3 = train_df3.columns.tolist()\n",
    "print(features3)"
   ]
  },
  {
   "cell_type": "code",
   "execution_count": 5,
   "metadata": {
    "scrolled": true
   },
   "outputs": [
    {
     "name": "stdout",
     "output_type": "stream",
     "text": [
      "215 102\n"
     ]
    }
   ],
   "source": [
    "print(len(features2),len(features3))"
   ]
  },
  {
   "cell_type": "markdown",
   "metadata": {},
   "source": [
    "交集"
   ]
  },
  {
   "cell_type": "code",
   "execution_count": 6,
   "metadata": {
    "scrolled": false
   },
   "outputs": [
    {
     "name": "stdout",
     "output_type": "stream",
     "text": [
      "['hist_purchase_date_average', 'new_month_lag_max', 'hist_purchase_date_uptonow', 'hist_subsector_id_nunique', 'new_installments_max', 'new_card_id_size', 'quarter', 'new_month_lag_mean', 'new_purchase_date_average', 'hist_month_diff_var', 'new_hour_nunique', 'hist_weekofyear_nunique', 'outliers', 'hist_purchase_date_max', 'purchase_amount_total', 'hist_month_diff_max', 'new_purchase_date_min', 'new_purchase_amount_sum', 'hist_month_diff_min', 'hist_purchase_date_diff', 'hist_month_lag_min', 'hist_merchant_category_id_nunique', 'hist_purchase_date_min', 'hist_authorized_flag_mean', 'hist_hour_nunique', 'new_purchase_amount_mean', 'hist_month_lag_mean', 'hist_month_nunique', 'new_purchase_amount_min', 'new_installments_mean', 'new_month_lag_min', 'hist_installments_max', 'target', 'hist_purchase_amount_min', 'feature_1', 'hist_card_id_size', 'new_subsector_id_nunique', 'new_month_lag_var', 'hist_month_diff_mean', 'hist_purchase_date_uptomin', 'hist_month_lag_var', 'new_month_diff_mean', 'new_merchant_category_id_nunique', 'new_purchase_date_uptonow', 'hist_weekend_mean', 'hist_installments_mean', 'new_weekofyear_nunique', 'hist_purchase_amount_mean', 'new_weekend_mean', 'feature_2', 'new_installments_sum', 'new_purchase_amount_max', 'hist_purchase_amount_max', 'card_id_total', 'new_purchase_date_max', 'new_purchase_date_diff', 'hist_installments_sum', 'feature_3', 'hist_first_buy', 'hist_purchase_amount_sum', 'new_month_diff_var', 'new_category_1_mean', 'new_first_buy', 'hist_month_lag_max', 'new_purchase_date_uptomin', 'hist_category_1_mean']\n",
      "66\n"
     ]
    }
   ],
   "source": [
    "low_features =list((set(features3).union(set(features2)))^(set(features3)^set(features2)))\n",
    "print(low_features)\n",
    "print(len(low_features))"
   ]
  },
  {
   "cell_type": "code",
   "execution_count": 6,
   "metadata": {
    "collapsed": true
   },
   "outputs": [
    {
     "ename": "KeyboardInterrupt",
     "evalue": "",
     "output_type": "error",
     "traceback": [
      "\u001b[1;31m---------------------------------------------------------------------------\u001b[0m",
      "\u001b[1;31mKeyboardInterrupt\u001b[0m                         Traceback (most recent call last)",
      "\u001b[1;32m<ipython-input-6-2c5344aa75e0>\u001b[0m in \u001b[0;36m<module>\u001b[1;34m()\u001b[0m\n\u001b[0;32m      1\u001b[0m \u001b[0mtrain_df2\u001b[0m\u001b[1;33m[\u001b[0m\u001b[0mlow_features\u001b[0m\u001b[1;33m]\u001b[0m\u001b[1;33m.\u001b[0m\u001b[0mto_csv\u001b[0m\u001b[1;33m(\u001b[0m\u001b[1;34m'low_features2.csv'\u001b[0m\u001b[1;33m,\u001b[0m\u001b[0mindex\u001b[0m \u001b[1;33m=\u001b[0m \u001b[1;32mFalse\u001b[0m\u001b[1;33m)\u001b[0m\u001b[1;33m\u001b[0m\u001b[0m\n\u001b[1;32m----> 2\u001b[1;33m \u001b[0mtrain_df3\u001b[0m\u001b[1;33m[\u001b[0m\u001b[0mlow_features\u001b[0m\u001b[1;33m]\u001b[0m\u001b[1;33m.\u001b[0m\u001b[0mto_csv\u001b[0m\u001b[1;33m(\u001b[0m\u001b[1;34m'low_features3.csv'\u001b[0m\u001b[1;33m,\u001b[0m\u001b[0mindex\u001b[0m \u001b[1;33m=\u001b[0m \u001b[1;32mFalse\u001b[0m\u001b[1;33m)\u001b[0m\u001b[1;33m\u001b[0m\u001b[0m\n\u001b[0m",
      "\u001b[1;32mC:\\Anaconda3\\lib\\site-packages\\pandas\\core\\frame.py\u001b[0m in \u001b[0;36mto_csv\u001b[1;34m(self, path_or_buf, sep, na_rep, float_format, columns, header, index, index_label, mode, encoding, compression, quoting, quotechar, line_terminator, chunksize, tupleize_cols, date_format, doublequote, escapechar, decimal)\u001b[0m\n\u001b[0;32m   1743\u001b[0m                                  \u001b[0mdoublequote\u001b[0m\u001b[1;33m=\u001b[0m\u001b[0mdoublequote\u001b[0m\u001b[1;33m,\u001b[0m\u001b[1;33m\u001b[0m\u001b[0m\n\u001b[0;32m   1744\u001b[0m                                  escapechar=escapechar, decimal=decimal)\n\u001b[1;32m-> 1745\u001b[1;33m         \u001b[0mformatter\u001b[0m\u001b[1;33m.\u001b[0m\u001b[0msave\u001b[0m\u001b[1;33m(\u001b[0m\u001b[1;33m)\u001b[0m\u001b[1;33m\u001b[0m\u001b[0m\n\u001b[0m\u001b[0;32m   1746\u001b[0m \u001b[1;33m\u001b[0m\u001b[0m\n\u001b[0;32m   1747\u001b[0m         \u001b[1;32mif\u001b[0m \u001b[0mpath_or_buf\u001b[0m \u001b[1;32mis\u001b[0m \u001b[1;32mNone\u001b[0m\u001b[1;33m:\u001b[0m\u001b[1;33m\u001b[0m\u001b[0m\n",
      "\u001b[1;32mC:\\Anaconda3\\lib\\site-packages\\pandas\\io\\formats\\csvs.py\u001b[0m in \u001b[0;36msave\u001b[1;34m(self)\u001b[0m\n\u001b[0;32m    149\u001b[0m                 \u001b[0mself\u001b[0m\u001b[1;33m.\u001b[0m\u001b[0mwriter\u001b[0m \u001b[1;33m=\u001b[0m \u001b[0mUnicodeWriter\u001b[0m\u001b[1;33m(\u001b[0m\u001b[0mf\u001b[0m\u001b[1;33m,\u001b[0m \u001b[1;33m**\u001b[0m\u001b[0mwriter_kwargs\u001b[0m\u001b[1;33m)\u001b[0m\u001b[1;33m\u001b[0m\u001b[0m\n\u001b[0;32m    150\u001b[0m \u001b[1;33m\u001b[0m\u001b[0m\n\u001b[1;32m--> 151\u001b[1;33m             \u001b[0mself\u001b[0m\u001b[1;33m.\u001b[0m\u001b[0m_save\u001b[0m\u001b[1;33m(\u001b[0m\u001b[1;33m)\u001b[0m\u001b[1;33m\u001b[0m\u001b[0m\n\u001b[0m\u001b[0;32m    152\u001b[0m \u001b[1;33m\u001b[0m\u001b[0m\n\u001b[0;32m    153\u001b[0m         \u001b[1;32mfinally\u001b[0m\u001b[1;33m:\u001b[0m\u001b[1;33m\u001b[0m\u001b[0m\n",
      "\u001b[1;32mC:\\Anaconda3\\lib\\site-packages\\pandas\\io\\formats\\csvs.py\u001b[0m in \u001b[0;36m_save\u001b[1;34m(self)\u001b[0m\n\u001b[0;32m    261\u001b[0m                 \u001b[1;32mbreak\u001b[0m\u001b[1;33m\u001b[0m\u001b[0m\n\u001b[0;32m    262\u001b[0m \u001b[1;33m\u001b[0m\u001b[0m\n\u001b[1;32m--> 263\u001b[1;33m             \u001b[0mself\u001b[0m\u001b[1;33m.\u001b[0m\u001b[0m_save_chunk\u001b[0m\u001b[1;33m(\u001b[0m\u001b[0mstart_i\u001b[0m\u001b[1;33m,\u001b[0m \u001b[0mend_i\u001b[0m\u001b[1;33m)\u001b[0m\u001b[1;33m\u001b[0m\u001b[0m\n\u001b[0m\u001b[0;32m    264\u001b[0m \u001b[1;33m\u001b[0m\u001b[0m\n\u001b[0;32m    265\u001b[0m     \u001b[1;32mdef\u001b[0m \u001b[0m_save_chunk\u001b[0m\u001b[1;33m(\u001b[0m\u001b[0mself\u001b[0m\u001b[1;33m,\u001b[0m \u001b[0mstart_i\u001b[0m\u001b[1;33m,\u001b[0m \u001b[0mend_i\u001b[0m\u001b[1;33m)\u001b[0m\u001b[1;33m:\u001b[0m\u001b[1;33m\u001b[0m\u001b[0m\n",
      "\u001b[1;32mC:\\Anaconda3\\lib\\site-packages\\pandas\\io\\formats\\csvs.py\u001b[0m in \u001b[0;36m_save_chunk\u001b[1;34m(self, start_i, end_i)\u001b[0m\n\u001b[0;32m    275\u001b[0m                                   \u001b[0mdecimal\u001b[0m\u001b[1;33m=\u001b[0m\u001b[0mself\u001b[0m\u001b[1;33m.\u001b[0m\u001b[0mdecimal\u001b[0m\u001b[1;33m,\u001b[0m\u001b[1;33m\u001b[0m\u001b[0m\n\u001b[0;32m    276\u001b[0m                                   \u001b[0mdate_format\u001b[0m\u001b[1;33m=\u001b[0m\u001b[0mself\u001b[0m\u001b[1;33m.\u001b[0m\u001b[0mdate_format\u001b[0m\u001b[1;33m,\u001b[0m\u001b[1;33m\u001b[0m\u001b[0m\n\u001b[1;32m--> 277\u001b[1;33m                                   quoting=self.quoting)\n\u001b[0m\u001b[0;32m    278\u001b[0m \u001b[1;33m\u001b[0m\u001b[0m\n\u001b[0;32m    279\u001b[0m             \u001b[1;32mfor\u001b[0m \u001b[0mcol_loc\u001b[0m\u001b[1;33m,\u001b[0m \u001b[0mcol\u001b[0m \u001b[1;32min\u001b[0m \u001b[0mzip\u001b[0m\u001b[1;33m(\u001b[0m\u001b[0mb\u001b[0m\u001b[1;33m.\u001b[0m\u001b[0mmgr_locs\u001b[0m\u001b[1;33m,\u001b[0m \u001b[0md\u001b[0m\u001b[1;33m)\u001b[0m\u001b[1;33m:\u001b[0m\u001b[1;33m\u001b[0m\u001b[0m\n",
      "\u001b[1;32mC:\\Anaconda3\\lib\\site-packages\\pandas\\core\\internals.py\u001b[0m in \u001b[0;36mto_native_types\u001b[1;34m(self, slicer, na_rep, float_format, decimal, quoting, **kwargs)\u001b[0m\n\u001b[0;32m   2069\u001b[0m                 \u001b[0mvalues\u001b[0m \u001b[1;33m=\u001b[0m \u001b[0mnp\u001b[0m\u001b[1;33m.\u001b[0m\u001b[0marray\u001b[0m\u001b[1;33m(\u001b[0m\u001b[0mvalues\u001b[0m\u001b[1;33m,\u001b[0m \u001b[0mdtype\u001b[0m\u001b[1;33m=\u001b[0m\u001b[1;34m'object'\u001b[0m\u001b[1;33m)\u001b[0m\u001b[1;33m\u001b[0m\u001b[0m\n\u001b[0;32m   2070\u001b[0m \u001b[1;33m\u001b[0m\u001b[0m\n\u001b[1;32m-> 2071\u001b[1;33m             \u001b[0mvalues\u001b[0m\u001b[1;33m[\u001b[0m\u001b[0mmask\u001b[0m\u001b[1;33m]\u001b[0m \u001b[1;33m=\u001b[0m \u001b[0mna_rep\u001b[0m\u001b[1;33m\u001b[0m\u001b[0m\n\u001b[0m\u001b[0;32m   2072\u001b[0m             \u001b[1;32mreturn\u001b[0m \u001b[0mvalues\u001b[0m\u001b[1;33m\u001b[0m\u001b[0m\n\u001b[0;32m   2073\u001b[0m \u001b[1;33m\u001b[0m\u001b[0m\n",
      "\u001b[1;31mKeyboardInterrupt\u001b[0m: "
     ]
    }
   ],
   "source": [
    "'''train_df2[low_features].to_csv('low_features2.csv',index = False)\n",
    "train_df3[low_features].to_csv('low_features3.csv',index = False)'''"
   ]
  },
  {
   "cell_type": "markdown",
   "metadata": {},
   "source": [
    "并集"
   ]
  },
  {
   "cell_type": "code",
   "execution_count": 7,
   "metadata": {
    "scrolled": true
   },
   "outputs": [
    {
     "name": "stdout",
     "output_type": "stream",
     "text": [
      "['new_subsector_id_nunique', 'features_min', 'price_total', 'hist_weekend_sum', 'new_month_mean', 'new_day_min', 'hist_month_diff_min', 'new_month_min', 'new_weekofyear_max', 'new_duration_mean', 'new_installments_sum', 'Unnamed: 0', 'new_month_max', 'new_category_2_mean', 'hist_first_buy', 'new_installments_std', 'hist_Mothers_Day_2017_sum', 'new_purchase_date_average', 'hist_merchant_category_id_nunique', 'hist_authorized_flag_mean', 'hist_duration_mean', 'hist_purchase_amount_skew', 'hist_card_id_size', 'new_purchase_amount_sum', 'hist_Children_day_2017_mean', 'hist_installments_var', 'new_weekday_min', 'hist_fathers_day_2017_sum', 'days_feature_1_ratio', 'new_month_diff_mean', 'hist_hour_nunique', 'installments_ratio', 'new_card_id_count', 'hist_Mothers_Day_2017_mean', 'new_Children_day_2017_sum', 'hist_weekend_mean', 'new_Mothers_Day_2018_sum', 'features_sum', 'new_category_2_mean_mean', 'hist_weekday_mean', 'new_month_lag_skew', 'new_hour_mean', 'new_hour_min', 'new_amount_month_ratio_min', 'hist_purchase_date_uptomin', 'hist_price_sum', 'days', 'hist_day_mean', 'hist_category_2_mean', 'hist_month_nunique', 'new_installments_mean', 'outliers', 'hist_dayofweek_nunique', 'hist_fathers_day_2017_mean', 'amount_month_ratio_mean', 'new_transactions_count', 'month_lag_min', 'hist_amount_month_ratio_mean', 'is_month_start', 'new_category_3_mean', 'hist_category_3_mean_mean', 'hist_Christmas_Day_2017_mean', 'new_hour_nunique', 'days_feature_3_ratio', 'new_purchase_amount_max', 'hist_weekofyear_mean', 'hist_weekofyear_max', 'hist_installments_skew', 'hist_Christmas_Day_2017_sum', 'purchase_amount_total', 'amount_month_ratio_max', 'new_purchase_date_uptonow', 'hist_purchase_amount_std', 'CLV_sq', 'duration_mean', 'purchase_amount_min', 'hist_category_1_min', 'hist_amount_month_ratio_max', 'hist_month_lag_max', 'hist_category_1_max', 'installments_total', 'elapsed_time', 'hist_month_lag_skew', 'hist_installments_max', 'new_installments_min', 'new_Mothers_Day_2018_mean', 'new_purchase_amount_min', 'hist_month_lag_min', 'features_mean', 'new_month_nunique', 'target', 'new_price_max', 'new_category_1_mean', 'features_max', 'new_duration_skew', 'new_authorized_flag_mean', 'hist_purchase_amount_mean', 'days_feature1', 'new_duration_max', 'feature_3', 'hist_month_diff_var', 'days_feature3', 'new_weekofyear_nunique', 'duration_min', 'hist_duration_var', 'first_active_month', 'new_month_lag_var', 'hist_price_max', 'features_var', 'new_merchant_category_id_nunique', 'CLV_ratio', 'new_Children_day_2017_mean', 'new_duration_min', 'hist_hour_mean', 'new_day_max', 'new_purchase_amount_var', 'hist_month_lag_var', 'new_month_diff_min', 'month_lag_mean', 'hist_purchase_amount_var', 'price_mean', 'new_month_diff_skew', 'hist_month_diff_max', 'duration_max', 'hist_installments_mean', 'amount_month_ratio_min', 'hist_transactions_count', 'new_weekend_sum', 'hist_duration_skew', 'new_price_var', 'month_lag_max', 'new_category_1_sum', 'hist_duration_min', 'hist_purchase_date_average', 'installments_max', 'hist_purchase_date_diff', 'hist_month_lag_mean', 'category_1_mean', 'new_month_lag_min', 'month_diff_ratio', 'new_day_nunique', 'hist_purchase_amount_max', 'hist_day_nunique', 'new_first_buy', 'new_Black_Friday_2017_mean', 'hist_purchase_amount_min', 'new_amount_month_ratio_mean', 'days_feature_1', 'hist_amount_month_ratio_skew', 'new_duration_var', 'hist_hour_min', 'price_max', 'new_purchase_date_min', 'hist_last_buy', 'hist_installments_std', 'new_weekday_mean', 'new_month_diff_var', 'new_price_min', 'hist_month_diff_skew', 'new_CLV', 'hist_merchant_id_nunique', 'hist_card_id_count', 'week', 'new_price_mean', 'purchase_amount_max', 'hist_year_nunique', 'new_card_id_size', 'hist_purchase_date_uptonow', 'feature_2', 'hist_subsector_id_nunique', 'new_month_lag_max', 'new_weekofyear_min', 'hist_installments_sum', 'hist_Black_Friday_2017_sum', 'new_authorized_flag_sum', 'hist_category_1_sum', 'month_diff_mean', 'features_prod', 'new_purchase_date_max', 'hist_amount_month_ratio_var', 'card_id_total', 'days_feature_2_ratio', 'new_weekday_max', 'new_weekend_mean', 'installments_mean', 'new_category_1_min', 'new_amount_month_ratio_max', 'days_feature_3', 'new_Christmas_Day_2017_mean', 'hist_purchase_date_min', 'new_installments_skew', 'dayofweek', 'hist_month_mean', 'month', 'new_month_diff_max', 'new_purchase_amount_mean', 'hist_duration_max', 'hist_CLV', 'hist_installments_min', 'new_installments_var', 'days_feature2', 'new_installments_max', 'hist_Black_Friday_2017_mean', 'feature_1', 'hist_Valentine_Day_2017_sum', 'new_purchase_date_uptomin', 'new_day_mean', 'hist_weekofyear_min', 'hist_month_diff_mean', 'hist_purchase_date_max', 'hist_price_var', 'card_id_cnt_ratio', 'hist_month_min', 'hist_weekofyear_nunique', 'purchase_amount_ratio', 'hist_hour_max', 'new_amount_month_ratio_skew', 'hist_Mothers_Day_2018_mean', 'hist_Valentine_Day_2017_mean', 'hist_amount_month_ratio_min', 'new_merchant_id_nunique', 'hist_price_mean', 'new_last_buy', 'new_Christmas_Day_2017_sum', 'new_category_3_mean_mean', 'new_category_1_max', 'hist_category_1_mean', 'hist_month_max', 'days_feature_2', 'new_month_lag_mean', 'card_id_cnt_total', 'hist_day_min', 'purchase_amount_mean', 'hist_authorized_flag_sum', 'new_year_nunique', 'hist_Children_day_2017_sum', 'new_Black_Friday_2017_sum', 'year', 'new_hour_max', 'new_purchase_amount_skew', 'hist_price_min', 'new_dayofweek_nunique', 'hist_category_3_mean', 'quarter', 'hist_category_2_mean_mean', 'new_weekofyear_mean', 'new_purchase_amount_std', 'new_amount_month_ratio_var', 'new_purchase_date_diff', 'hist_Mothers_Day_2018_sum', 'hist_purchase_amount_sum']\n",
      "251\n"
     ]
    }
   ],
   "source": [
    "'''high_features =list(set(features2).union(set(features3)))\n",
    "print(high_features)\n",
    "print(len(high_features))'''"
   ]
  },
  {
   "cell_type": "markdown",
   "metadata": {},
   "source": [
    "差集"
   ]
  },
  {
   "cell_type": "code",
   "execution_count": 11,
   "metadata": {},
   "outputs": [],
   "source": [
    "low_features3 = pd.read_csv('low_features3.csv').columns.tolist()"
   ]
  },
  {
   "cell_type": "code",
   "execution_count": 12,
   "metadata": {},
   "outputs": [
    {
     "name": "stdout",
     "output_type": "stream",
     "text": [
      "66\n"
     ]
    }
   ],
   "source": [
    "print(len(low_features3))"
   ]
  },
  {
   "cell_type": "code",
   "execution_count": 8,
   "metadata": {},
   "outputs": [],
   "source": [
    "useless = ['new_month_lag_min','quarter','new_month_lag_max','hist_month_lag_max','new_month_diff_var'#40\n",
    "    'hist_hour_nunique','new_installments_sum','hist_installments_max','new_subsector_id_nunique',\n",
    "    'new_installments_max','hist_month_lag_min','new_weekofyear_nunique','new_weekend_mean','new_hour_nunique'#30\n",
    "    'hist_subsector_id_nunique']"
   ]
  },
  {
   "cell_type": "code",
   "execution_count": 13,
   "metadata": {},
   "outputs": [
    {
     "name": "stdout",
     "output_type": "stream",
     "text": [
      "['hist_purchase_date_diff', 'hist_month_diff_min', 'hist_purchase_date_average', 'hist_purchase_amount_mean', 'hist_purchase_date_uptonow', 'feature_2', 'hist_subsector_id_nunique', 'target', 'hist_weekend_mean', 'new_card_id_size', 'new_purchase_amount_max', 'new_month_lag_mean', 'new_purchase_date_average', 'hist_purchase_amount_max', 'hist_purchase_amount_min', 'card_id_total', 'hist_merchant_category_id_nunique', 'hist_purchase_date_min', 'new_purchase_date_max', 'feature_1', 'hist_hour_nunique', 'hist_authorized_flag_mean', 'new_purchase_amount_mean', 'hist_installments_sum', 'new_purchase_date_diff', 'feature_3', 'hist_month_diff_var', 'hist_card_id_size', 'new_hour_nunique', 'hist_month_lag_mean', 'hist_first_buy', 'hist_weekofyear_nunique', 'new_month_lag_var', 'new_purchase_amount_sum', 'hist_month_lag_var', 'hist_month_diff_mean', 'hist_purchase_date_uptomin', 'outliers', 'new_hour_nuniquehist_subsector_id_nunique', 'new_month_diff_mean', 'hist_purchase_amount_sum', 'hist_purchase_date_max', 'new_month_diff_var', 'hist_month_nunique', 'purchase_amount_total', 'new_purchase_amount_min', 'new_category_1_mean', 'new_month_diff_varhist_hour_nunique', 'new_installments_mean', 'new_purchase_date_uptonow', 'new_merchant_category_id_nunique', 'new_first_buy', 'hist_installments_mean', 'new_purchase_date_uptomin', 'hist_month_diff_max', 'new_purchase_date_min', 'hist_category_1_mean']\n",
      "57\n"
     ]
    }
   ],
   "source": [
    "low_features =list(set(low_features3)^set(useless))\n",
    "print(low_features)\n",
    "print(len(low_features))"
   ]
  },
  {
   "cell_type": "code",
   "execution_count": null,
   "metadata": {
    "scrolled": true
   },
   "outputs": [],
   "source": [
    "diff_features =list(set(features2)^set(features3))\n",
    "print(diff_features)\n",
    "print(len(diff_features))"
   ]
  },
  {
   "cell_type": "code",
   "execution_count": null,
   "metadata": {},
   "outputs": [],
   "source": [
    "more2 = list(set(features2)^set(low_features))\n",
    "print(more2)\n",
    "print(len(more2))"
   ]
  },
  {
   "cell_type": "code",
   "execution_count": 9,
   "metadata": {},
   "outputs": [
    {
     "name": "stdout",
     "output_type": "stream",
     "text": [
      "['hist_weekend_sum', 'Unnamed: 0', 'new_installments_std', 'hist_installments_std', 'week', 'hist_year_nunique', 'days', 'new_authorized_flag_sum', 'hist_category_1_sum', 'new_category_1_min', 'hist_dayofweek_nunique', 'new_transactions_count', 'dayofweek', 'is_month_start', 'month', 'new_month_diff_max', 'hist_purchase_amount_std', 'hist_installments_min', 'hist_category_1_min', 'hist_category_1_max', 'days_feature2', 'new_installments_min', 'new_month_nunique', 'new_authorized_flag_mean', 'days_feature1', 'days_feature3', 'new_category_1_max', 'hist_authorized_flag_sum', 'new_year_nunique', 'year', 'new_month_diff_min', 'new_dayofweek_nunique', 'new_purchase_amount_std', 'hist_transactions_count', 'new_weekend_sum', 'new_category_1_sum']\n",
      "36\n"
     ]
    }
   ],
   "source": [
    "more3 = list(set(features3)^set(low_features))\n",
    "print(more3)\n",
    "print(len(more3))"
   ]
  }
 ],
 "metadata": {
  "kernelspec": {
   "display_name": "Python 3",
   "language": "python",
   "name": "python3"
  },
  "language_info": {
   "codemirror_mode": {
    "name": "ipython",
    "version": 3
   },
   "file_extension": ".py",
   "mimetype": "text/x-python",
   "name": "python",
   "nbconvert_exporter": "python",
   "pygments_lexer": "ipython3",
   "version": "3.6.5"
  }
 },
 "nbformat": 4,
 "nbformat_minor": 2
}
